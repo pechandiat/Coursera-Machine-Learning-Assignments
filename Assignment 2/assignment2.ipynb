{
 "cells": [
  {
   "cell_type": "markdown",
   "metadata": {
    "deletable": false,
    "editable": false,
    "nbgrader": {
     "cell_type": "markdown",
     "checksum": "650e2b959116c766bc5782adc8da0a74",
     "grade": false,
     "grade_id": "cell-12add5077b6e89c4",
     "locked": true,
     "schema_version": 3,
     "solution": false,
     "task": false
    }
   },
   "source": [
    "---\n",
    "\n",
    "_You are currently looking at **version 0.1** of this notebook. To download notebooks and datafiles, as well as get help on Jupyter notebooks in the Coursera platform, visit the Jupyter Notebook FAQ course resource._\n",
    "\n",
    "---"
   ]
  },
  {
   "cell_type": "markdown",
   "metadata": {},
   "source": [
    "# Assignment 2\n",
    "\n",
    "In this assignment you'll explore the relationship between model complexity and generalization performance, by adjusting key parameters of various supervised learning models. Part 1 of this assignment will look at regression and Part 2 will look at classification.\n",
    "\n",
    "## Part 1 - Regression"
   ]
  },
  {
   "cell_type": "code",
   "execution_count": 1,
   "metadata": {
    "deletable": false,
    "editable": false,
    "nbgrader": {
     "cell_type": "code",
     "checksum": "0eb030de7472f474f2acbff31502ea12",
     "grade": false,
     "grade_id": "cell-82820d5bbf6c4ddf",
     "locked": true,
     "schema_version": 3,
     "solution": false,
     "task": false
    }
   },
   "outputs": [
    {
     "data": {
      "application/javascript": "/* Put everything inside the global mpl namespace */\n/* global mpl */\nwindow.mpl = {};\n\nmpl.get_websocket_type = function () {\n    if (typeof WebSocket !== 'undefined') {\n        return WebSocket;\n    } else if (typeof MozWebSocket !== 'undefined') {\n        return MozWebSocket;\n    } else {\n        alert(\n            'Your browser does not have WebSocket support. ' +\n                'Please try Chrome, Safari or Firefox ≥ 6. ' +\n                'Firefox 4 and 5 are also supported but you ' +\n                'have to enable WebSockets in about:config.'\n        );\n    }\n};\n\nmpl.figure = function (figure_id, websocket, ondownload, parent_element) {\n    this.id = figure_id;\n\n    this.ws = websocket;\n\n    this.supports_binary = this.ws.binaryType !== undefined;\n\n    if (!this.supports_binary) {\n        var warnings = document.getElementById('mpl-warnings');\n        if (warnings) {\n            warnings.style.display = 'block';\n            warnings.textContent =\n                'This browser does not support binary websocket messages. ' +\n                'Performance may be slow.';\n        }\n    }\n\n    this.imageObj = new Image();\n\n    this.context = undefined;\n    this.message = undefined;\n    this.canvas = undefined;\n    this.rubberband_canvas = undefined;\n    this.rubberband_context = undefined;\n    this.format_dropdown = undefined;\n\n    this.image_mode = 'full';\n\n    this.root = document.createElement('div');\n    this.root.setAttribute('style', 'display: inline-block');\n    this._root_extra_style(this.root);\n\n    parent_element.appendChild(this.root);\n\n    this._init_header(this);\n    this._init_canvas(this);\n    this._init_toolbar(this);\n\n    var fig = this;\n\n    this.waiting = false;\n\n    this.ws.onopen = function () {\n        fig.send_message('supports_binary', { value: fig.supports_binary });\n        fig.send_message('send_image_mode', {});\n        if (fig.ratio !== 1) {\n            fig.send_message('set_device_pixel_ratio', {\n                device_pixel_ratio: fig.ratio,\n            });\n        }\n        fig.send_message('refresh', {});\n    };\n\n    this.imageObj.onload = function () {\n        if (fig.image_mode === 'full') {\n            // Full images could contain transparency (where diff images\n            // almost always do), so we need to clear the canvas so that\n            // there is no ghosting.\n            fig.context.clearRect(0, 0, fig.canvas.width, fig.canvas.height);\n        }\n        fig.context.drawImage(fig.imageObj, 0, 0);\n    };\n\n    this.imageObj.onunload = function () {\n        fig.ws.close();\n    };\n\n    this.ws.onmessage = this._make_on_message_function(this);\n\n    this.ondownload = ondownload;\n};\n\nmpl.figure.prototype._init_header = function () {\n    var titlebar = document.createElement('div');\n    titlebar.classList =\n        'ui-dialog-titlebar ui-widget-header ui-corner-all ui-helper-clearfix';\n    var titletext = document.createElement('div');\n    titletext.classList = 'ui-dialog-title';\n    titletext.setAttribute(\n        'style',\n        'width: 100%; text-align: center; padding: 3px;'\n    );\n    titlebar.appendChild(titletext);\n    this.root.appendChild(titlebar);\n    this.header = titletext;\n};\n\nmpl.figure.prototype._canvas_extra_style = function (_canvas_div) {};\n\nmpl.figure.prototype._root_extra_style = function (_canvas_div) {};\n\nmpl.figure.prototype._init_canvas = function () {\n    var fig = this;\n\n    var canvas_div = (this.canvas_div = document.createElement('div'));\n    canvas_div.setAttribute('tabindex', '0');\n    canvas_div.setAttribute(\n        'style',\n        'border: 1px solid #ddd;' +\n            'box-sizing: content-box;' +\n            'clear: both;' +\n            'min-height: 1px;' +\n            'min-width: 1px;' +\n            'outline: 0;' +\n            'overflow: hidden;' +\n            'position: relative;' +\n            'resize: both;' +\n            'z-index: 2;'\n    );\n\n    function on_keyboard_event_closure(name) {\n        return function (event) {\n            return fig.key_event(event, name);\n        };\n    }\n\n    canvas_div.addEventListener(\n        'keydown',\n        on_keyboard_event_closure('key_press')\n    );\n    canvas_div.addEventListener(\n        'keyup',\n        on_keyboard_event_closure('key_release')\n    );\n\n    this._canvas_extra_style(canvas_div);\n    this.root.appendChild(canvas_div);\n\n    var canvas = (this.canvas = document.createElement('canvas'));\n    canvas.classList.add('mpl-canvas');\n    canvas.setAttribute(\n        'style',\n        'box-sizing: content-box;' +\n            'pointer-events: none;' +\n            'position: relative;' +\n            'z-index: 0;'\n    );\n\n    this.context = canvas.getContext('2d');\n\n    var backingStore =\n        this.context.backingStorePixelRatio ||\n        this.context.webkitBackingStorePixelRatio ||\n        this.context.mozBackingStorePixelRatio ||\n        this.context.msBackingStorePixelRatio ||\n        this.context.oBackingStorePixelRatio ||\n        this.context.backingStorePixelRatio ||\n        1;\n\n    this.ratio = (window.devicePixelRatio || 1) / backingStore;\n\n    var rubberband_canvas = (this.rubberband_canvas = document.createElement(\n        'canvas'\n    ));\n    rubberband_canvas.setAttribute(\n        'style',\n        'box-sizing: content-box;' +\n            'left: 0;' +\n            'pointer-events: none;' +\n            'position: absolute;' +\n            'top: 0;' +\n            'z-index: 1;'\n    );\n\n    // Apply a ponyfill if ResizeObserver is not implemented by browser.\n    if (this.ResizeObserver === undefined) {\n        if (window.ResizeObserver !== undefined) {\n            this.ResizeObserver = window.ResizeObserver;\n        } else {\n            var obs = _JSXTOOLS_RESIZE_OBSERVER({});\n            this.ResizeObserver = obs.ResizeObserver;\n        }\n    }\n\n    this.resizeObserverInstance = new this.ResizeObserver(function (entries) {\n        // There's no need to resize if the WebSocket is not connected:\n        // - If it is still connecting, then we will get an initial resize from\n        //   Python once it connects.\n        // - If it has disconnected, then resizing will clear the canvas and\n        //   never get anything back to refill it, so better to not resize and\n        //   keep something visible.\n        if (fig.ws.readyState != 1) {\n            return;\n        }\n        var nentries = entries.length;\n        for (var i = 0; i < nentries; i++) {\n            var entry = entries[i];\n            var width, height;\n            if (entry.contentBoxSize) {\n                if (entry.contentBoxSize instanceof Array) {\n                    // Chrome 84 implements new version of spec.\n                    width = entry.contentBoxSize[0].inlineSize;\n                    height = entry.contentBoxSize[0].blockSize;\n                } else {\n                    // Firefox implements old version of spec.\n                    width = entry.contentBoxSize.inlineSize;\n                    height = entry.contentBoxSize.blockSize;\n                }\n            } else {\n                // Chrome <84 implements even older version of spec.\n                width = entry.contentRect.width;\n                height = entry.contentRect.height;\n            }\n\n            // Keep the size of the canvas and rubber band canvas in sync with\n            // the canvas container.\n            if (entry.devicePixelContentBoxSize) {\n                // Chrome 84 implements new version of spec.\n                canvas.setAttribute(\n                    'width',\n                    entry.devicePixelContentBoxSize[0].inlineSize\n                );\n                canvas.setAttribute(\n                    'height',\n                    entry.devicePixelContentBoxSize[0].blockSize\n                );\n            } else {\n                canvas.setAttribute('width', width * fig.ratio);\n                canvas.setAttribute('height', height * fig.ratio);\n            }\n            /* This rescales the canvas back to display pixels, so that it\n             * appears correct on HiDPI screens. */\n            canvas.style.width = width + 'px';\n            canvas.style.height = height + 'px';\n\n            rubberband_canvas.setAttribute('width', width);\n            rubberband_canvas.setAttribute('height', height);\n\n            // And update the size in Python. We ignore the initial 0/0 size\n            // that occurs as the element is placed into the DOM, which should\n            // otherwise not happen due to the minimum size styling.\n            if (width != 0 && height != 0) {\n                fig.request_resize(width, height);\n            }\n        }\n    });\n    this.resizeObserverInstance.observe(canvas_div);\n\n    function on_mouse_event_closure(name) {\n        /* User Agent sniffing is bad, but WebKit is busted:\n         * https://bugs.webkit.org/show_bug.cgi?id=144526\n         * https://bugs.webkit.org/show_bug.cgi?id=181818\n         * The worst that happens here is that they get an extra browser\n         * selection when dragging, if this check fails to catch them.\n         */\n        var UA = navigator.userAgent;\n        var isWebKit = /AppleWebKit/.test(UA) && !/Chrome/.test(UA);\n        if(isWebKit) {\n            return function (event) {\n                /* This prevents the web browser from automatically changing to\n                 * the text insertion cursor when the button is pressed. We\n                 * want to control all of the cursor setting manually through\n                 * the 'cursor' event from matplotlib */\n                event.preventDefault()\n                return fig.mouse_event(event, name);\n            };\n        } else {\n            return function (event) {\n                return fig.mouse_event(event, name);\n            };\n        }\n    }\n\n    canvas_div.addEventListener(\n        'mousedown',\n        on_mouse_event_closure('button_press')\n    );\n    canvas_div.addEventListener(\n        'mouseup',\n        on_mouse_event_closure('button_release')\n    );\n    canvas_div.addEventListener(\n        'dblclick',\n        on_mouse_event_closure('dblclick')\n    );\n    // Throttle sequential mouse events to 1 every 20ms.\n    canvas_div.addEventListener(\n        'mousemove',\n        on_mouse_event_closure('motion_notify')\n    );\n\n    canvas_div.addEventListener(\n        'mouseenter',\n        on_mouse_event_closure('figure_enter')\n    );\n    canvas_div.addEventListener(\n        'mouseleave',\n        on_mouse_event_closure('figure_leave')\n    );\n\n    canvas_div.addEventListener('wheel', function (event) {\n        if (event.deltaY < 0) {\n            event.step = 1;\n        } else {\n            event.step = -1;\n        }\n        on_mouse_event_closure('scroll')(event);\n    });\n\n    canvas_div.appendChild(canvas);\n    canvas_div.appendChild(rubberband_canvas);\n\n    this.rubberband_context = rubberband_canvas.getContext('2d');\n    this.rubberband_context.strokeStyle = '#000000';\n\n    this._resize_canvas = function (width, height, forward) {\n        if (forward) {\n            canvas_div.style.width = width + 'px';\n            canvas_div.style.height = height + 'px';\n        }\n    };\n\n    // Disable right mouse context menu.\n    canvas_div.addEventListener('contextmenu', function (_e) {\n        event.preventDefault();\n        return false;\n    });\n\n    function set_focus() {\n        canvas.focus();\n        canvas_div.focus();\n    }\n\n    window.setTimeout(set_focus, 100);\n};\n\nmpl.figure.prototype._init_toolbar = function () {\n    var fig = this;\n\n    var toolbar = document.createElement('div');\n    toolbar.classList = 'mpl-toolbar';\n    this.root.appendChild(toolbar);\n\n    function on_click_closure(name) {\n        return function (_event) {\n            return fig.toolbar_button_onclick(name);\n        };\n    }\n\n    function on_mouseover_closure(tooltip) {\n        return function (event) {\n            if (!event.currentTarget.disabled) {\n                return fig.toolbar_button_onmouseover(tooltip);\n            }\n        };\n    }\n\n    fig.buttons = {};\n    var buttonGroup = document.createElement('div');\n    buttonGroup.classList = 'mpl-button-group';\n    for (var toolbar_ind in mpl.toolbar_items) {\n        var name = mpl.toolbar_items[toolbar_ind][0];\n        var tooltip = mpl.toolbar_items[toolbar_ind][1];\n        var image = mpl.toolbar_items[toolbar_ind][2];\n        var method_name = mpl.toolbar_items[toolbar_ind][3];\n\n        if (!name) {\n            /* Instead of a spacer, we start a new button group. */\n            if (buttonGroup.hasChildNodes()) {\n                toolbar.appendChild(buttonGroup);\n            }\n            buttonGroup = document.createElement('div');\n            buttonGroup.classList = 'mpl-button-group';\n            continue;\n        }\n\n        var button = (fig.buttons[name] = document.createElement('button'));\n        button.classList = 'mpl-widget';\n        button.setAttribute('role', 'button');\n        button.setAttribute('aria-disabled', 'false');\n        button.addEventListener('click', on_click_closure(method_name));\n        button.addEventListener('mouseover', on_mouseover_closure(tooltip));\n\n        var icon_img = document.createElement('img');\n        icon_img.src = '_images/' + image + '.png';\n        icon_img.srcset = '_images/' + image + '_large.png 2x';\n        icon_img.alt = tooltip;\n        button.appendChild(icon_img);\n\n        buttonGroup.appendChild(button);\n    }\n\n    if (buttonGroup.hasChildNodes()) {\n        toolbar.appendChild(buttonGroup);\n    }\n\n    var fmt_picker = document.createElement('select');\n    fmt_picker.classList = 'mpl-widget';\n    toolbar.appendChild(fmt_picker);\n    this.format_dropdown = fmt_picker;\n\n    for (var ind in mpl.extensions) {\n        var fmt = mpl.extensions[ind];\n        var option = document.createElement('option');\n        option.selected = fmt === mpl.default_extension;\n        option.innerHTML = fmt;\n        fmt_picker.appendChild(option);\n    }\n\n    var status_bar = document.createElement('span');\n    status_bar.classList = 'mpl-message';\n    toolbar.appendChild(status_bar);\n    this.message = status_bar;\n};\n\nmpl.figure.prototype.request_resize = function (x_pixels, y_pixels) {\n    // Request matplotlib to resize the figure. Matplotlib will then trigger a resize in the client,\n    // which will in turn request a refresh of the image.\n    this.send_message('resize', { width: x_pixels, height: y_pixels });\n};\n\nmpl.figure.prototype.send_message = function (type, properties) {\n    properties['type'] = type;\n    properties['figure_id'] = this.id;\n    this.ws.send(JSON.stringify(properties));\n};\n\nmpl.figure.prototype.send_draw_message = function () {\n    if (!this.waiting) {\n        this.waiting = true;\n        this.ws.send(JSON.stringify({ type: 'draw', figure_id: this.id }));\n    }\n};\n\nmpl.figure.prototype.handle_save = function (fig, _msg) {\n    var format_dropdown = fig.format_dropdown;\n    var format = format_dropdown.options[format_dropdown.selectedIndex].value;\n    fig.ondownload(fig, format);\n};\n\nmpl.figure.prototype.handle_resize = function (fig, msg) {\n    var size = msg['size'];\n    if (size[0] !== fig.canvas.width || size[1] !== fig.canvas.height) {\n        fig._resize_canvas(size[0], size[1], msg['forward']);\n        fig.send_message('refresh', {});\n    }\n};\n\nmpl.figure.prototype.handle_rubberband = function (fig, msg) {\n    var x0 = msg['x0'] / fig.ratio;\n    var y0 = (fig.canvas.height - msg['y0']) / fig.ratio;\n    var x1 = msg['x1'] / fig.ratio;\n    var y1 = (fig.canvas.height - msg['y1']) / fig.ratio;\n    x0 = Math.floor(x0) + 0.5;\n    y0 = Math.floor(y0) + 0.5;\n    x1 = Math.floor(x1) + 0.5;\n    y1 = Math.floor(y1) + 0.5;\n    var min_x = Math.min(x0, x1);\n    var min_y = Math.min(y0, y1);\n    var width = Math.abs(x1 - x0);\n    var height = Math.abs(y1 - y0);\n\n    fig.rubberband_context.clearRect(\n        0,\n        0,\n        fig.canvas.width / fig.ratio,\n        fig.canvas.height / fig.ratio\n    );\n\n    fig.rubberband_context.strokeRect(min_x, min_y, width, height);\n};\n\nmpl.figure.prototype.handle_figure_label = function (fig, msg) {\n    // Updates the figure title.\n    fig.header.textContent = msg['label'];\n};\n\nmpl.figure.prototype.handle_cursor = function (fig, msg) {\n    fig.canvas_div.style.cursor = msg['cursor'];\n};\n\nmpl.figure.prototype.handle_message = function (fig, msg) {\n    fig.message.textContent = msg['message'];\n};\n\nmpl.figure.prototype.handle_draw = function (fig, _msg) {\n    // Request the server to send over a new figure.\n    fig.send_draw_message();\n};\n\nmpl.figure.prototype.handle_image_mode = function (fig, msg) {\n    fig.image_mode = msg['mode'];\n};\n\nmpl.figure.prototype.handle_history_buttons = function (fig, msg) {\n    for (var key in msg) {\n        if (!(key in fig.buttons)) {\n            continue;\n        }\n        fig.buttons[key].disabled = !msg[key];\n        fig.buttons[key].setAttribute('aria-disabled', !msg[key]);\n    }\n};\n\nmpl.figure.prototype.handle_navigate_mode = function (fig, msg) {\n    if (msg['mode'] === 'PAN') {\n        fig.buttons['Pan'].classList.add('active');\n        fig.buttons['Zoom'].classList.remove('active');\n    } else if (msg['mode'] === 'ZOOM') {\n        fig.buttons['Pan'].classList.remove('active');\n        fig.buttons['Zoom'].classList.add('active');\n    } else {\n        fig.buttons['Pan'].classList.remove('active');\n        fig.buttons['Zoom'].classList.remove('active');\n    }\n};\n\nmpl.figure.prototype.updated_canvas_event = function () {\n    // Called whenever the canvas gets updated.\n    this.send_message('ack', {});\n};\n\n// A function to construct a web socket function for onmessage handling.\n// Called in the figure constructor.\nmpl.figure.prototype._make_on_message_function = function (fig) {\n    return function socket_on_message(evt) {\n        if (evt.data instanceof Blob) {\n            var img = evt.data;\n            if (img.type !== 'image/png') {\n                /* FIXME: We get \"Resource interpreted as Image but\n                 * transferred with MIME type text/plain:\" errors on\n                 * Chrome.  But how to set the MIME type?  It doesn't seem\n                 * to be part of the websocket stream */\n                img.type = 'image/png';\n            }\n\n            /* Free the memory for the previous frames */\n            if (fig.imageObj.src) {\n                (window.URL || window.webkitURL).revokeObjectURL(\n                    fig.imageObj.src\n                );\n            }\n\n            fig.imageObj.src = (window.URL || window.webkitURL).createObjectURL(\n                img\n            );\n            fig.updated_canvas_event();\n            fig.waiting = false;\n            return;\n        } else if (\n            typeof evt.data === 'string' &&\n            evt.data.slice(0, 21) === 'data:image/png;base64'\n        ) {\n            fig.imageObj.src = evt.data;\n            fig.updated_canvas_event();\n            fig.waiting = false;\n            return;\n        }\n\n        var msg = JSON.parse(evt.data);\n        var msg_type = msg['type'];\n\n        // Call the  \"handle_{type}\" callback, which takes\n        // the figure and JSON message as its only arguments.\n        try {\n            var callback = fig['handle_' + msg_type];\n        } catch (e) {\n            console.log(\n                \"No handler for the '\" + msg_type + \"' message type: \",\n                msg\n            );\n            return;\n        }\n\n        if (callback) {\n            try {\n                // console.log(\"Handling '\" + msg_type + \"' message: \", msg);\n                callback(fig, msg);\n            } catch (e) {\n                console.log(\n                    \"Exception inside the 'handler_\" + msg_type + \"' callback:\",\n                    e,\n                    e.stack,\n                    msg\n                );\n            }\n        }\n    };\n};\n\nfunction getModifiers(event) {\n    var mods = [];\n    if (event.ctrlKey) {\n        mods.push('ctrl');\n    }\n    if (event.altKey) {\n        mods.push('alt');\n    }\n    if (event.shiftKey) {\n        mods.push('shift');\n    }\n    if (event.metaKey) {\n        mods.push('meta');\n    }\n    return mods;\n}\n\n/*\n * return a copy of an object with only non-object keys\n * we need this to avoid circular references\n * https://stackoverflow.com/a/24161582/3208463\n */\nfunction simpleKeys(original) {\n    return Object.keys(original).reduce(function (obj, key) {\n        if (typeof original[key] !== 'object') {\n            obj[key] = original[key];\n        }\n        return obj;\n    }, {});\n}\n\nmpl.figure.prototype.mouse_event = function (event, name) {\n    if (name === 'button_press') {\n        this.canvas.focus();\n        this.canvas_div.focus();\n    }\n\n    // from https://stackoverflow.com/q/1114465\n    var boundingRect = this.canvas.getBoundingClientRect();\n    var x = (event.clientX - boundingRect.left) * this.ratio;\n    var y = (event.clientY - boundingRect.top) * this.ratio;\n\n    this.send_message(name, {\n        x: x,\n        y: y,\n        button: event.button,\n        step: event.step,\n        modifiers: getModifiers(event),\n        guiEvent: simpleKeys(event),\n    });\n\n    return false;\n};\n\nmpl.figure.prototype._key_event_extra = function (_event, _name) {\n    // Handle any extra behaviour associated with a key event\n};\n\nmpl.figure.prototype.key_event = function (event, name) {\n    // Prevent repeat events\n    if (name === 'key_press') {\n        if (event.key === this._key) {\n            return;\n        } else {\n            this._key = event.key;\n        }\n    }\n    if (name === 'key_release') {\n        this._key = null;\n    }\n\n    var value = '';\n    if (event.ctrlKey && event.key !== 'Control') {\n        value += 'ctrl+';\n    }\n    else if (event.altKey && event.key !== 'Alt') {\n        value += 'alt+';\n    }\n    else if (event.shiftKey && event.key !== 'Shift') {\n        value += 'shift+';\n    }\n\n    value += 'k' + event.key;\n\n    this._key_event_extra(event, name);\n\n    this.send_message(name, { key: value, guiEvent: simpleKeys(event) });\n    return false;\n};\n\nmpl.figure.prototype.toolbar_button_onclick = function (name) {\n    if (name === 'download') {\n        this.handle_save(this, null);\n    } else {\n        this.send_message('toolbar_button', { name: name });\n    }\n};\n\nmpl.figure.prototype.toolbar_button_onmouseover = function (tooltip) {\n    this.message.textContent = tooltip;\n};\n\n///////////////// REMAINING CONTENT GENERATED BY embed_js.py /////////////////\n// prettier-ignore\nvar _JSXTOOLS_RESIZE_OBSERVER=function(A){var t,i=new WeakMap,n=new WeakMap,a=new WeakMap,r=new WeakMap,o=new Set;function s(e){if(!(this instanceof s))throw new TypeError(\"Constructor requires 'new' operator\");i.set(this,e)}function h(){throw new TypeError(\"Function is not a constructor\")}function c(e,t,i,n){e=0 in arguments?Number(arguments[0]):0,t=1 in arguments?Number(arguments[1]):0,i=2 in arguments?Number(arguments[2]):0,n=3 in arguments?Number(arguments[3]):0,this.right=(this.x=this.left=e)+(this.width=i),this.bottom=(this.y=this.top=t)+(this.height=n),Object.freeze(this)}function d(){t=requestAnimationFrame(d);var s=new WeakMap,p=new Set;o.forEach((function(t){r.get(t).forEach((function(i){var r=t instanceof window.SVGElement,o=a.get(t),d=r?0:parseFloat(o.paddingTop),f=r?0:parseFloat(o.paddingRight),l=r?0:parseFloat(o.paddingBottom),u=r?0:parseFloat(o.paddingLeft),g=r?0:parseFloat(o.borderTopWidth),m=r?0:parseFloat(o.borderRightWidth),w=r?0:parseFloat(o.borderBottomWidth),b=u+f,F=d+l,v=(r?0:parseFloat(o.borderLeftWidth))+m,W=g+w,y=r?0:t.offsetHeight-W-t.clientHeight,E=r?0:t.offsetWidth-v-t.clientWidth,R=b+v,z=F+W,M=r?t.width:parseFloat(o.width)-R-E,O=r?t.height:parseFloat(o.height)-z-y;if(n.has(t)){var k=n.get(t);if(k[0]===M&&k[1]===O)return}n.set(t,[M,O]);var S=Object.create(h.prototype);S.target=t,S.contentRect=new c(u,d,M,O),s.has(i)||(s.set(i,[]),p.add(i)),s.get(i).push(S)}))})),p.forEach((function(e){i.get(e).call(e,s.get(e),e)}))}return s.prototype.observe=function(i){if(i instanceof window.Element){r.has(i)||(r.set(i,new Set),o.add(i),a.set(i,window.getComputedStyle(i)));var n=r.get(i);n.has(this)||n.add(this),cancelAnimationFrame(t),t=requestAnimationFrame(d)}},s.prototype.unobserve=function(i){if(i instanceof window.Element&&r.has(i)){var n=r.get(i);n.has(this)&&(n.delete(this),n.size||(r.delete(i),o.delete(i))),n.size||r.delete(i),o.size||cancelAnimationFrame(t)}},A.DOMRectReadOnly=c,A.ResizeObserver=s,A.ResizeObserverEntry=h,A}; // eslint-disable-line\nmpl.toolbar_items = [[\"Home\", \"Reset original view\", \"fa fa-home\", \"home\"], [\"Back\", \"Back to previous view\", \"fa fa-arrow-left\", \"back\"], [\"Forward\", \"Forward to next view\", \"fa fa-arrow-right\", \"forward\"], [\"\", \"\", \"\", \"\"], [\"Pan\", \"Left button pans, Right button zooms\\nx/y fixes axis, CTRL fixes aspect\", \"fa fa-arrows\", \"pan\"], [\"Zoom\", \"Zoom to rectangle\\nx/y fixes axis\", \"fa fa-square-o\", \"zoom\"], [\"\", \"\", \"\", \"\"], [\"Download\", \"Download plot\", \"fa fa-floppy-o\", \"download\"]];\n\nmpl.extensions = [\"eps\", \"jpeg\", \"pgf\", \"pdf\", \"png\", \"ps\", \"raw\", \"svg\", \"tif\", \"webp\"];\n\nmpl.default_extension = \"png\";/* global mpl */\n\nvar comm_websocket_adapter = function (comm) {\n    // Create a \"websocket\"-like object which calls the given IPython comm\n    // object with the appropriate methods. Currently this is a non binary\n    // socket, so there is still some room for performance tuning.\n    var ws = {};\n\n    ws.binaryType = comm.kernel.ws.binaryType;\n    ws.readyState = comm.kernel.ws.readyState;\n    function updateReadyState(_event) {\n        if (comm.kernel.ws) {\n            ws.readyState = comm.kernel.ws.readyState;\n        } else {\n            ws.readyState = 3; // Closed state.\n        }\n    }\n    comm.kernel.ws.addEventListener('open', updateReadyState);\n    comm.kernel.ws.addEventListener('close', updateReadyState);\n    comm.kernel.ws.addEventListener('error', updateReadyState);\n\n    ws.close = function () {\n        comm.close();\n    };\n    ws.send = function (m) {\n        //console.log('sending', m);\n        comm.send(m);\n    };\n    // Register the callback with on_msg.\n    comm.on_msg(function (msg) {\n        //console.log('receiving', msg['content']['data'], msg);\n        var data = msg['content']['data'];\n        if (data['blob'] !== undefined) {\n            data = {\n                data: new Blob(msg['buffers'], { type: data['blob'] }),\n            };\n        }\n        // Pass the mpl event to the overridden (by mpl) onmessage function.\n        ws.onmessage(data);\n    });\n    return ws;\n};\n\nmpl.mpl_figure_comm = function (comm, msg) {\n    // This is the function which gets called when the mpl process\n    // starts-up an IPython Comm through the \"matplotlib\" channel.\n\n    var id = msg.content.data.id;\n    // Get hold of the div created by the display call when the Comm\n    // socket was opened in Python.\n    var element = document.getElementById(id);\n    var ws_proxy = comm_websocket_adapter(comm);\n\n    function ondownload(figure, _format) {\n        window.open(figure.canvas.toDataURL());\n    }\n\n    var fig = new mpl.figure(id, ws_proxy, ondownload, element);\n\n    // Call onopen now - mpl needs it, as it is assuming we've passed it a real\n    // web socket which is closed, not our websocket->open comm proxy.\n    ws_proxy.onopen();\n\n    fig.parent_element = element;\n    fig.cell_info = mpl.find_output_cell(\"<div id='\" + id + \"'></div>\");\n    if (!fig.cell_info) {\n        console.error('Failed to find cell for figure', id, fig);\n        return;\n    }\n    fig.cell_info[0].output_area.element.on(\n        'cleared',\n        { fig: fig },\n        fig._remove_fig_handler\n    );\n};\n\nmpl.figure.prototype.handle_close = function (fig, msg) {\n    var width = fig.canvas.width / fig.ratio;\n    fig.cell_info[0].output_area.element.off(\n        'cleared',\n        fig._remove_fig_handler\n    );\n    fig.resizeObserverInstance.unobserve(fig.canvas_div);\n\n    // Update the output cell to use the data from the current canvas.\n    fig.push_to_output();\n    var dataURL = fig.canvas.toDataURL();\n    // Re-enable the keyboard manager in IPython - without this line, in FF,\n    // the notebook keyboard shortcuts fail.\n    IPython.keyboard_manager.enable();\n    fig.parent_element.innerHTML =\n        '<img src=\"' + dataURL + '\" width=\"' + width + '\">';\n    fig.close_ws(fig, msg);\n};\n\nmpl.figure.prototype.close_ws = function (fig, msg) {\n    fig.send_message('closing', msg);\n    // fig.ws.close()\n};\n\nmpl.figure.prototype.push_to_output = function (_remove_interactive) {\n    // Turn the data on the canvas into data in the output cell.\n    var width = this.canvas.width / this.ratio;\n    var dataURL = this.canvas.toDataURL();\n    this.cell_info[1]['text/html'] =\n        '<img src=\"' + dataURL + '\" width=\"' + width + '\">';\n};\n\nmpl.figure.prototype.updated_canvas_event = function () {\n    // Tell IPython that the notebook contents must change.\n    IPython.notebook.set_dirty(true);\n    this.send_message('ack', {});\n    var fig = this;\n    // Wait a second, then push the new image to the DOM so\n    // that it is saved nicely (might be nice to debounce this).\n    setTimeout(function () {\n        fig.push_to_output();\n    }, 1000);\n};\n\nmpl.figure.prototype._init_toolbar = function () {\n    var fig = this;\n\n    var toolbar = document.createElement('div');\n    toolbar.classList = 'btn-toolbar';\n    this.root.appendChild(toolbar);\n\n    function on_click_closure(name) {\n        return function (_event) {\n            return fig.toolbar_button_onclick(name);\n        };\n    }\n\n    function on_mouseover_closure(tooltip) {\n        return function (event) {\n            if (!event.currentTarget.disabled) {\n                return fig.toolbar_button_onmouseover(tooltip);\n            }\n        };\n    }\n\n    fig.buttons = {};\n    var buttonGroup = document.createElement('div');\n    buttonGroup.classList = 'btn-group';\n    var button;\n    for (var toolbar_ind in mpl.toolbar_items) {\n        var name = mpl.toolbar_items[toolbar_ind][0];\n        var tooltip = mpl.toolbar_items[toolbar_ind][1];\n        var image = mpl.toolbar_items[toolbar_ind][2];\n        var method_name = mpl.toolbar_items[toolbar_ind][3];\n\n        if (!name) {\n            /* Instead of a spacer, we start a new button group. */\n            if (buttonGroup.hasChildNodes()) {\n                toolbar.appendChild(buttonGroup);\n            }\n            buttonGroup = document.createElement('div');\n            buttonGroup.classList = 'btn-group';\n            continue;\n        }\n\n        button = fig.buttons[name] = document.createElement('button');\n        button.classList = 'btn btn-default';\n        button.href = '#';\n        button.title = name;\n        button.innerHTML = '<i class=\"fa ' + image + ' fa-lg\"></i>';\n        button.addEventListener('click', on_click_closure(method_name));\n        button.addEventListener('mouseover', on_mouseover_closure(tooltip));\n        buttonGroup.appendChild(button);\n    }\n\n    if (buttonGroup.hasChildNodes()) {\n        toolbar.appendChild(buttonGroup);\n    }\n\n    // Add the status bar.\n    var status_bar = document.createElement('span');\n    status_bar.classList = 'mpl-message pull-right';\n    toolbar.appendChild(status_bar);\n    this.message = status_bar;\n\n    // Add the close button to the window.\n    var buttongrp = document.createElement('div');\n    buttongrp.classList = 'btn-group inline pull-right';\n    button = document.createElement('button');\n    button.classList = 'btn btn-mini btn-primary';\n    button.href = '#';\n    button.title = 'Stop Interaction';\n    button.innerHTML = '<i class=\"fa fa-power-off icon-remove icon-large\"></i>';\n    button.addEventListener('click', function (_evt) {\n        fig.handle_close(fig, {});\n    });\n    button.addEventListener(\n        'mouseover',\n        on_mouseover_closure('Stop Interaction')\n    );\n    buttongrp.appendChild(button);\n    var titlebar = this.root.querySelector('.ui-dialog-titlebar');\n    titlebar.insertBefore(buttongrp, titlebar.firstChild);\n};\n\nmpl.figure.prototype._remove_fig_handler = function (event) {\n    var fig = event.data.fig;\n    if (event.target !== this) {\n        // Ignore bubbled events from children.\n        return;\n    }\n    fig.close_ws(fig, {});\n};\n\nmpl.figure.prototype._root_extra_style = function (el) {\n    el.style.boxSizing = 'content-box'; // override notebook setting of border-box.\n};\n\nmpl.figure.prototype._canvas_extra_style = function (el) {\n    // this is important to make the div 'focusable\n    el.setAttribute('tabindex', 0);\n    // reach out to IPython and tell the keyboard manager to turn it's self\n    // off when our div gets focus\n\n    // location in version 3\n    if (IPython.notebook.keyboard_manager) {\n        IPython.notebook.keyboard_manager.register_events(el);\n    } else {\n        // location in version 2\n        IPython.keyboard_manager.register_events(el);\n    }\n};\n\nmpl.figure.prototype._key_event_extra = function (event, _name) {\n    // Check for shift+enter\n    if (event.shiftKey && event.which === 13) {\n        this.canvas_div.blur();\n        // select the cell after this one\n        var index = IPython.notebook.find_cell_index(this.cell_info[0]);\n        IPython.notebook.select(index + 1);\n    }\n};\n\nmpl.figure.prototype.handle_save = function (fig, _msg) {\n    fig.ondownload(fig, null);\n};\n\nmpl.find_output_cell = function (html_output) {\n    // Return the cell and output element which can be found *uniquely* in the notebook.\n    // Note - this is a bit hacky, but it is done because the \"notebook_saving.Notebook\"\n    // IPython event is triggered only after the cells have been serialised, which for\n    // our purposes (turning an active figure into a static one), is too late.\n    var cells = IPython.notebook.get_cells();\n    var ncells = cells.length;\n    for (var i = 0; i < ncells; i++) {\n        var cell = cells[i];\n        if (cell.cell_type === 'code') {\n            for (var j = 0; j < cell.output_area.outputs.length; j++) {\n                var data = cell.output_area.outputs[j];\n                if (data.data) {\n                    // IPython >= 3 moved mimebundle to data attribute of output\n                    data = data.data;\n                }\n                if (data['text/html'] === html_output) {\n                    return [cell, data, j];\n                }\n            }\n        }\n    }\n};\n\n// Register the function which deals with the matplotlib target/channel.\n// The kernel may be null if the page has been refreshed.\nif (IPython.notebook.kernel !== null) {\n    IPython.notebook.kernel.comm_manager.register_target(\n        'matplotlib',\n        mpl.mpl_figure_comm\n    );\n}\n",
      "text/plain": [
       "<IPython.core.display.Javascript object>"
      ]
     },
     "metadata": {},
     "output_type": "display_data"
    },
    {
     "data": {
      "text/html": [
       "<div id='0654c264-256b-48bb-bc39-9ead5c5f3353'></div>"
      ],
      "text/plain": [
       "<IPython.core.display.HTML object>"
      ]
     },
     "metadata": {},
     "output_type": "display_data"
    }
   ],
   "source": [
    "import numpy as np\n",
    "import pandas as pd\n",
    "import matplotlib.pyplot as plt\n",
    "from sklearn.model_selection import train_test_split\n",
    "\n",
    "\n",
    "np.random.seed(0)\n",
    "n = 15\n",
    "x = np.linspace(0,10,n) + np.random.randn(n)/5\n",
    "y = np.sin(x)+x/6 + np.random.randn(n)/10\n",
    "\n",
    "\n",
    "X_train, X_test, y_train, y_test = train_test_split(x, y, random_state=0)\n",
    "\n",
    "def intro():\n",
    "    %matplotlib notebook\n",
    "\n",
    "    plt.figure()\n",
    "    plt.scatter(X_train, y_train, label='training data')\n",
    "    plt.scatter(X_test, y_test, label='test data')\n",
    "    plt.legend(loc=4);\n",
    "\n",
    "intro()"
   ]
  },
  {
   "cell_type": "markdown",
   "metadata": {
    "deletable": false,
    "editable": false,
    "nbgrader": {
     "cell_type": "markdown",
     "checksum": "6f1010623ab32922f56be3c510bda9b4",
     "grade": false,
     "grade_id": "cell-035dbae9bf827659",
     "locked": true,
     "schema_version": 3,
     "solution": false,
     "task": false
    }
   },
   "source": [
    "### Question 1\n",
    "\n",
    "Write a function that fits a polynomial LinearRegression model on the *training data* `X_train` for degrees 1, 3, 6, and 9. (Use PolynomialFeatures in sklearn.preprocessing to create the polynomial features and then fit a linear regression model) For each model, find 100 predicted values over the interval x = 0 to 10 (e.g. `np.linspace(0,10,100)`) and store this in a numpy array. The first row of this array should correspond to the output from the model trained on degree 1, the second row degree 3, the third row degree 6, and the fourth row degree 9.\n",
    "\n",
    "<img src=\"assets/polynomialreg1.png\" style=\"width: 1000px;\"/>\n",
    "\n",
    "The figure above shows the fitted models plotted on top of the original data (using `plot_one()`).\n",
    "\n",
    "<br>\n",
    "*This function should return a numpy array with shape `(4, 100)`*"
   ]
  },
  {
   "cell_type": "code",
   "execution_count": 2,
   "metadata": {
    "deletable": false,
    "nbgrader": {
     "cell_type": "code",
     "checksum": "8436104c34e3504afe30bc2525bb75ea",
     "grade": false,
     "grade_id": "cell-6c513a17d17152d5",
     "locked": false,
     "schema_version": 3,
     "solution": true,
     "task": false
    }
   },
   "outputs": [
    {
     "data": {
      "text/plain": [
       "(4, 100)"
      ]
     },
     "execution_count": 2,
     "metadata": {},
     "output_type": "execute_result"
    }
   ],
   "source": [
    "def answer_one():\n",
    "    from sklearn.linear_model import LinearRegression\n",
    "    from sklearn.preprocessing import PolynomialFeatures\n",
    "    \n",
    "    values = np.linspace(0,10,100)\n",
    "    degree_predictions = np.zeros((4,100))\n",
    "\n",
    "    for i, j in enumerate([1, 3, 6, 9]):\n",
    "        poly = PolynomialFeatures(degree=j)\n",
    "        x1_poly = poly.fit_transform(x.reshape(-1,1))\n",
    "\n",
    "        X_train1, X_test1, y_train, y_test = train_test_split(x1_poly, y, random_state=0)\n",
    "        linreg = LinearRegression().fit(X_train1, y_train)\n",
    "        poly.fit_transform(values.reshape(-1,1))\n",
    "        degree_predictions[i]= linreg.predict(poly.fit_transform(values.reshape(-1,1)))\n",
    "     \n",
    "    return degree_predictions\n",
    "    \n",
    "answer_one().shape\n",
    "    \n",
    "    # YOUR CODE HERE\n",
    "    #raise NotImplementedError()"
   ]
  },
  {
   "cell_type": "code",
   "execution_count": 8,
   "metadata": {
    "deletable": false,
    "editable": false,
    "nbgrader": {
     "cell_type": "code",
     "checksum": "490e096030c2a5920f27296066dbbf96",
     "grade": true,
     "grade_id": "cell-4b3a4b2c2971710c",
     "locked": true,
     "points": 2,
     "schema_version": 3,
     "solution": false,
     "task": false
    }
   },
   "outputs": [
    {
     "data": {
      "application/javascript": "/* Put everything inside the global mpl namespace */\n/* global mpl */\nwindow.mpl = {};\n\nmpl.get_websocket_type = function () {\n    if (typeof WebSocket !== 'undefined') {\n        return WebSocket;\n    } else if (typeof MozWebSocket !== 'undefined') {\n        return MozWebSocket;\n    } else {\n        alert(\n            'Your browser does not have WebSocket support. ' +\n                'Please try Chrome, Safari or Firefox ≥ 6. ' +\n                'Firefox 4 and 5 are also supported but you ' +\n                'have to enable WebSockets in about:config.'\n        );\n    }\n};\n\nmpl.figure = function (figure_id, websocket, ondownload, parent_element) {\n    this.id = figure_id;\n\n    this.ws = websocket;\n\n    this.supports_binary = this.ws.binaryType !== undefined;\n\n    if (!this.supports_binary) {\n        var warnings = document.getElementById('mpl-warnings');\n        if (warnings) {\n            warnings.style.display = 'block';\n            warnings.textContent =\n                'This browser does not support binary websocket messages. ' +\n                'Performance may be slow.';\n        }\n    }\n\n    this.imageObj = new Image();\n\n    this.context = undefined;\n    this.message = undefined;\n    this.canvas = undefined;\n    this.rubberband_canvas = undefined;\n    this.rubberband_context = undefined;\n    this.format_dropdown = undefined;\n\n    this.image_mode = 'full';\n\n    this.root = document.createElement('div');\n    this.root.setAttribute('style', 'display: inline-block');\n    this._root_extra_style(this.root);\n\n    parent_element.appendChild(this.root);\n\n    this._init_header(this);\n    this._init_canvas(this);\n    this._init_toolbar(this);\n\n    var fig = this;\n\n    this.waiting = false;\n\n    this.ws.onopen = function () {\n        fig.send_message('supports_binary', { value: fig.supports_binary });\n        fig.send_message('send_image_mode', {});\n        if (fig.ratio !== 1) {\n            fig.send_message('set_device_pixel_ratio', {\n                device_pixel_ratio: fig.ratio,\n            });\n        }\n        fig.send_message('refresh', {});\n    };\n\n    this.imageObj.onload = function () {\n        if (fig.image_mode === 'full') {\n            // Full images could contain transparency (where diff images\n            // almost always do), so we need to clear the canvas so that\n            // there is no ghosting.\n            fig.context.clearRect(0, 0, fig.canvas.width, fig.canvas.height);\n        }\n        fig.context.drawImage(fig.imageObj, 0, 0);\n    };\n\n    this.imageObj.onunload = function () {\n        fig.ws.close();\n    };\n\n    this.ws.onmessage = this._make_on_message_function(this);\n\n    this.ondownload = ondownload;\n};\n\nmpl.figure.prototype._init_header = function () {\n    var titlebar = document.createElement('div');\n    titlebar.classList =\n        'ui-dialog-titlebar ui-widget-header ui-corner-all ui-helper-clearfix';\n    var titletext = document.createElement('div');\n    titletext.classList = 'ui-dialog-title';\n    titletext.setAttribute(\n        'style',\n        'width: 100%; text-align: center; padding: 3px;'\n    );\n    titlebar.appendChild(titletext);\n    this.root.appendChild(titlebar);\n    this.header = titletext;\n};\n\nmpl.figure.prototype._canvas_extra_style = function (_canvas_div) {};\n\nmpl.figure.prototype._root_extra_style = function (_canvas_div) {};\n\nmpl.figure.prototype._init_canvas = function () {\n    var fig = this;\n\n    var canvas_div = (this.canvas_div = document.createElement('div'));\n    canvas_div.setAttribute('tabindex', '0');\n    canvas_div.setAttribute(\n        'style',\n        'border: 1px solid #ddd;' +\n            'box-sizing: content-box;' +\n            'clear: both;' +\n            'min-height: 1px;' +\n            'min-width: 1px;' +\n            'outline: 0;' +\n            'overflow: hidden;' +\n            'position: relative;' +\n            'resize: both;' +\n            'z-index: 2;'\n    );\n\n    function on_keyboard_event_closure(name) {\n        return function (event) {\n            return fig.key_event(event, name);\n        };\n    }\n\n    canvas_div.addEventListener(\n        'keydown',\n        on_keyboard_event_closure('key_press')\n    );\n    canvas_div.addEventListener(\n        'keyup',\n        on_keyboard_event_closure('key_release')\n    );\n\n    this._canvas_extra_style(canvas_div);\n    this.root.appendChild(canvas_div);\n\n    var canvas = (this.canvas = document.createElement('canvas'));\n    canvas.classList.add('mpl-canvas');\n    canvas.setAttribute(\n        'style',\n        'box-sizing: content-box;' +\n            'pointer-events: none;' +\n            'position: relative;' +\n            'z-index: 0;'\n    );\n\n    this.context = canvas.getContext('2d');\n\n    var backingStore =\n        this.context.backingStorePixelRatio ||\n        this.context.webkitBackingStorePixelRatio ||\n        this.context.mozBackingStorePixelRatio ||\n        this.context.msBackingStorePixelRatio ||\n        this.context.oBackingStorePixelRatio ||\n        this.context.backingStorePixelRatio ||\n        1;\n\n    this.ratio = (window.devicePixelRatio || 1) / backingStore;\n\n    var rubberband_canvas = (this.rubberband_canvas = document.createElement(\n        'canvas'\n    ));\n    rubberband_canvas.setAttribute(\n        'style',\n        'box-sizing: content-box;' +\n            'left: 0;' +\n            'pointer-events: none;' +\n            'position: absolute;' +\n            'top: 0;' +\n            'z-index: 1;'\n    );\n\n    // Apply a ponyfill if ResizeObserver is not implemented by browser.\n    if (this.ResizeObserver === undefined) {\n        if (window.ResizeObserver !== undefined) {\n            this.ResizeObserver = window.ResizeObserver;\n        } else {\n            var obs = _JSXTOOLS_RESIZE_OBSERVER({});\n            this.ResizeObserver = obs.ResizeObserver;\n        }\n    }\n\n    this.resizeObserverInstance = new this.ResizeObserver(function (entries) {\n        // There's no need to resize if the WebSocket is not connected:\n        // - If it is still connecting, then we will get an initial resize from\n        //   Python once it connects.\n        // - If it has disconnected, then resizing will clear the canvas and\n        //   never get anything back to refill it, so better to not resize and\n        //   keep something visible.\n        if (fig.ws.readyState != 1) {\n            return;\n        }\n        var nentries = entries.length;\n        for (var i = 0; i < nentries; i++) {\n            var entry = entries[i];\n            var width, height;\n            if (entry.contentBoxSize) {\n                if (entry.contentBoxSize instanceof Array) {\n                    // Chrome 84 implements new version of spec.\n                    width = entry.contentBoxSize[0].inlineSize;\n                    height = entry.contentBoxSize[0].blockSize;\n                } else {\n                    // Firefox implements old version of spec.\n                    width = entry.contentBoxSize.inlineSize;\n                    height = entry.contentBoxSize.blockSize;\n                }\n            } else {\n                // Chrome <84 implements even older version of spec.\n                width = entry.contentRect.width;\n                height = entry.contentRect.height;\n            }\n\n            // Keep the size of the canvas and rubber band canvas in sync with\n            // the canvas container.\n            if (entry.devicePixelContentBoxSize) {\n                // Chrome 84 implements new version of spec.\n                canvas.setAttribute(\n                    'width',\n                    entry.devicePixelContentBoxSize[0].inlineSize\n                );\n                canvas.setAttribute(\n                    'height',\n                    entry.devicePixelContentBoxSize[0].blockSize\n                );\n            } else {\n                canvas.setAttribute('width', width * fig.ratio);\n                canvas.setAttribute('height', height * fig.ratio);\n            }\n            /* This rescales the canvas back to display pixels, so that it\n             * appears correct on HiDPI screens. */\n            canvas.style.width = width + 'px';\n            canvas.style.height = height + 'px';\n\n            rubberband_canvas.setAttribute('width', width);\n            rubberband_canvas.setAttribute('height', height);\n\n            // And update the size in Python. We ignore the initial 0/0 size\n            // that occurs as the element is placed into the DOM, which should\n            // otherwise not happen due to the minimum size styling.\n            if (width != 0 && height != 0) {\n                fig.request_resize(width, height);\n            }\n        }\n    });\n    this.resizeObserverInstance.observe(canvas_div);\n\n    function on_mouse_event_closure(name) {\n        /* User Agent sniffing is bad, but WebKit is busted:\n         * https://bugs.webkit.org/show_bug.cgi?id=144526\n         * https://bugs.webkit.org/show_bug.cgi?id=181818\n         * The worst that happens here is that they get an extra browser\n         * selection when dragging, if this check fails to catch them.\n         */\n        var UA = navigator.userAgent;\n        var isWebKit = /AppleWebKit/.test(UA) && !/Chrome/.test(UA);\n        if(isWebKit) {\n            return function (event) {\n                /* This prevents the web browser from automatically changing to\n                 * the text insertion cursor when the button is pressed. We\n                 * want to control all of the cursor setting manually through\n                 * the 'cursor' event from matplotlib */\n                event.preventDefault()\n                return fig.mouse_event(event, name);\n            };\n        } else {\n            return function (event) {\n                return fig.mouse_event(event, name);\n            };\n        }\n    }\n\n    canvas_div.addEventListener(\n        'mousedown',\n        on_mouse_event_closure('button_press')\n    );\n    canvas_div.addEventListener(\n        'mouseup',\n        on_mouse_event_closure('button_release')\n    );\n    canvas_div.addEventListener(\n        'dblclick',\n        on_mouse_event_closure('dblclick')\n    );\n    // Throttle sequential mouse events to 1 every 20ms.\n    canvas_div.addEventListener(\n        'mousemove',\n        on_mouse_event_closure('motion_notify')\n    );\n\n    canvas_div.addEventListener(\n        'mouseenter',\n        on_mouse_event_closure('figure_enter')\n    );\n    canvas_div.addEventListener(\n        'mouseleave',\n        on_mouse_event_closure('figure_leave')\n    );\n\n    canvas_div.addEventListener('wheel', function (event) {\n        if (event.deltaY < 0) {\n            event.step = 1;\n        } else {\n            event.step = -1;\n        }\n        on_mouse_event_closure('scroll')(event);\n    });\n\n    canvas_div.appendChild(canvas);\n    canvas_div.appendChild(rubberband_canvas);\n\n    this.rubberband_context = rubberband_canvas.getContext('2d');\n    this.rubberband_context.strokeStyle = '#000000';\n\n    this._resize_canvas = function (width, height, forward) {\n        if (forward) {\n            canvas_div.style.width = width + 'px';\n            canvas_div.style.height = height + 'px';\n        }\n    };\n\n    // Disable right mouse context menu.\n    canvas_div.addEventListener('contextmenu', function (_e) {\n        event.preventDefault();\n        return false;\n    });\n\n    function set_focus() {\n        canvas.focus();\n        canvas_div.focus();\n    }\n\n    window.setTimeout(set_focus, 100);\n};\n\nmpl.figure.prototype._init_toolbar = function () {\n    var fig = this;\n\n    var toolbar = document.createElement('div');\n    toolbar.classList = 'mpl-toolbar';\n    this.root.appendChild(toolbar);\n\n    function on_click_closure(name) {\n        return function (_event) {\n            return fig.toolbar_button_onclick(name);\n        };\n    }\n\n    function on_mouseover_closure(tooltip) {\n        return function (event) {\n            if (!event.currentTarget.disabled) {\n                return fig.toolbar_button_onmouseover(tooltip);\n            }\n        };\n    }\n\n    fig.buttons = {};\n    var buttonGroup = document.createElement('div');\n    buttonGroup.classList = 'mpl-button-group';\n    for (var toolbar_ind in mpl.toolbar_items) {\n        var name = mpl.toolbar_items[toolbar_ind][0];\n        var tooltip = mpl.toolbar_items[toolbar_ind][1];\n        var image = mpl.toolbar_items[toolbar_ind][2];\n        var method_name = mpl.toolbar_items[toolbar_ind][3];\n\n        if (!name) {\n            /* Instead of a spacer, we start a new button group. */\n            if (buttonGroup.hasChildNodes()) {\n                toolbar.appendChild(buttonGroup);\n            }\n            buttonGroup = document.createElement('div');\n            buttonGroup.classList = 'mpl-button-group';\n            continue;\n        }\n\n        var button = (fig.buttons[name] = document.createElement('button'));\n        button.classList = 'mpl-widget';\n        button.setAttribute('role', 'button');\n        button.setAttribute('aria-disabled', 'false');\n        button.addEventListener('click', on_click_closure(method_name));\n        button.addEventListener('mouseover', on_mouseover_closure(tooltip));\n\n        var icon_img = document.createElement('img');\n        icon_img.src = '_images/' + image + '.png';\n        icon_img.srcset = '_images/' + image + '_large.png 2x';\n        icon_img.alt = tooltip;\n        button.appendChild(icon_img);\n\n        buttonGroup.appendChild(button);\n    }\n\n    if (buttonGroup.hasChildNodes()) {\n        toolbar.appendChild(buttonGroup);\n    }\n\n    var fmt_picker = document.createElement('select');\n    fmt_picker.classList = 'mpl-widget';\n    toolbar.appendChild(fmt_picker);\n    this.format_dropdown = fmt_picker;\n\n    for (var ind in mpl.extensions) {\n        var fmt = mpl.extensions[ind];\n        var option = document.createElement('option');\n        option.selected = fmt === mpl.default_extension;\n        option.innerHTML = fmt;\n        fmt_picker.appendChild(option);\n    }\n\n    var status_bar = document.createElement('span');\n    status_bar.classList = 'mpl-message';\n    toolbar.appendChild(status_bar);\n    this.message = status_bar;\n};\n\nmpl.figure.prototype.request_resize = function (x_pixels, y_pixels) {\n    // Request matplotlib to resize the figure. Matplotlib will then trigger a resize in the client,\n    // which will in turn request a refresh of the image.\n    this.send_message('resize', { width: x_pixels, height: y_pixels });\n};\n\nmpl.figure.prototype.send_message = function (type, properties) {\n    properties['type'] = type;\n    properties['figure_id'] = this.id;\n    this.ws.send(JSON.stringify(properties));\n};\n\nmpl.figure.prototype.send_draw_message = function () {\n    if (!this.waiting) {\n        this.waiting = true;\n        this.ws.send(JSON.stringify({ type: 'draw', figure_id: this.id }));\n    }\n};\n\nmpl.figure.prototype.handle_save = function (fig, _msg) {\n    var format_dropdown = fig.format_dropdown;\n    var format = format_dropdown.options[format_dropdown.selectedIndex].value;\n    fig.ondownload(fig, format);\n};\n\nmpl.figure.prototype.handle_resize = function (fig, msg) {\n    var size = msg['size'];\n    if (size[0] !== fig.canvas.width || size[1] !== fig.canvas.height) {\n        fig._resize_canvas(size[0], size[1], msg['forward']);\n        fig.send_message('refresh', {});\n    }\n};\n\nmpl.figure.prototype.handle_rubberband = function (fig, msg) {\n    var x0 = msg['x0'] / fig.ratio;\n    var y0 = (fig.canvas.height - msg['y0']) / fig.ratio;\n    var x1 = msg['x1'] / fig.ratio;\n    var y1 = (fig.canvas.height - msg['y1']) / fig.ratio;\n    x0 = Math.floor(x0) + 0.5;\n    y0 = Math.floor(y0) + 0.5;\n    x1 = Math.floor(x1) + 0.5;\n    y1 = Math.floor(y1) + 0.5;\n    var min_x = Math.min(x0, x1);\n    var min_y = Math.min(y0, y1);\n    var width = Math.abs(x1 - x0);\n    var height = Math.abs(y1 - y0);\n\n    fig.rubberband_context.clearRect(\n        0,\n        0,\n        fig.canvas.width / fig.ratio,\n        fig.canvas.height / fig.ratio\n    );\n\n    fig.rubberband_context.strokeRect(min_x, min_y, width, height);\n};\n\nmpl.figure.prototype.handle_figure_label = function (fig, msg) {\n    // Updates the figure title.\n    fig.header.textContent = msg['label'];\n};\n\nmpl.figure.prototype.handle_cursor = function (fig, msg) {\n    fig.canvas_div.style.cursor = msg['cursor'];\n};\n\nmpl.figure.prototype.handle_message = function (fig, msg) {\n    fig.message.textContent = msg['message'];\n};\n\nmpl.figure.prototype.handle_draw = function (fig, _msg) {\n    // Request the server to send over a new figure.\n    fig.send_draw_message();\n};\n\nmpl.figure.prototype.handle_image_mode = function (fig, msg) {\n    fig.image_mode = msg['mode'];\n};\n\nmpl.figure.prototype.handle_history_buttons = function (fig, msg) {\n    for (var key in msg) {\n        if (!(key in fig.buttons)) {\n            continue;\n        }\n        fig.buttons[key].disabled = !msg[key];\n        fig.buttons[key].setAttribute('aria-disabled', !msg[key]);\n    }\n};\n\nmpl.figure.prototype.handle_navigate_mode = function (fig, msg) {\n    if (msg['mode'] === 'PAN') {\n        fig.buttons['Pan'].classList.add('active');\n        fig.buttons['Zoom'].classList.remove('active');\n    } else if (msg['mode'] === 'ZOOM') {\n        fig.buttons['Pan'].classList.remove('active');\n        fig.buttons['Zoom'].classList.add('active');\n    } else {\n        fig.buttons['Pan'].classList.remove('active');\n        fig.buttons['Zoom'].classList.remove('active');\n    }\n};\n\nmpl.figure.prototype.updated_canvas_event = function () {\n    // Called whenever the canvas gets updated.\n    this.send_message('ack', {});\n};\n\n// A function to construct a web socket function for onmessage handling.\n// Called in the figure constructor.\nmpl.figure.prototype._make_on_message_function = function (fig) {\n    return function socket_on_message(evt) {\n        if (evt.data instanceof Blob) {\n            var img = evt.data;\n            if (img.type !== 'image/png') {\n                /* FIXME: We get \"Resource interpreted as Image but\n                 * transferred with MIME type text/plain:\" errors on\n                 * Chrome.  But how to set the MIME type?  It doesn't seem\n                 * to be part of the websocket stream */\n                img.type = 'image/png';\n            }\n\n            /* Free the memory for the previous frames */\n            if (fig.imageObj.src) {\n                (window.URL || window.webkitURL).revokeObjectURL(\n                    fig.imageObj.src\n                );\n            }\n\n            fig.imageObj.src = (window.URL || window.webkitURL).createObjectURL(\n                img\n            );\n            fig.updated_canvas_event();\n            fig.waiting = false;\n            return;\n        } else if (\n            typeof evt.data === 'string' &&\n            evt.data.slice(0, 21) === 'data:image/png;base64'\n        ) {\n            fig.imageObj.src = evt.data;\n            fig.updated_canvas_event();\n            fig.waiting = false;\n            return;\n        }\n\n        var msg = JSON.parse(evt.data);\n        var msg_type = msg['type'];\n\n        // Call the  \"handle_{type}\" callback, which takes\n        // the figure and JSON message as its only arguments.\n        try {\n            var callback = fig['handle_' + msg_type];\n        } catch (e) {\n            console.log(\n                \"No handler for the '\" + msg_type + \"' message type: \",\n                msg\n            );\n            return;\n        }\n\n        if (callback) {\n            try {\n                // console.log(\"Handling '\" + msg_type + \"' message: \", msg);\n                callback(fig, msg);\n            } catch (e) {\n                console.log(\n                    \"Exception inside the 'handler_\" + msg_type + \"' callback:\",\n                    e,\n                    e.stack,\n                    msg\n                );\n            }\n        }\n    };\n};\n\nfunction getModifiers(event) {\n    var mods = [];\n    if (event.ctrlKey) {\n        mods.push('ctrl');\n    }\n    if (event.altKey) {\n        mods.push('alt');\n    }\n    if (event.shiftKey) {\n        mods.push('shift');\n    }\n    if (event.metaKey) {\n        mods.push('meta');\n    }\n    return mods;\n}\n\n/*\n * return a copy of an object with only non-object keys\n * we need this to avoid circular references\n * https://stackoverflow.com/a/24161582/3208463\n */\nfunction simpleKeys(original) {\n    return Object.keys(original).reduce(function (obj, key) {\n        if (typeof original[key] !== 'object') {\n            obj[key] = original[key];\n        }\n        return obj;\n    }, {});\n}\n\nmpl.figure.prototype.mouse_event = function (event, name) {\n    if (name === 'button_press') {\n        this.canvas.focus();\n        this.canvas_div.focus();\n    }\n\n    // from https://stackoverflow.com/q/1114465\n    var boundingRect = this.canvas.getBoundingClientRect();\n    var x = (event.clientX - boundingRect.left) * this.ratio;\n    var y = (event.clientY - boundingRect.top) * this.ratio;\n\n    this.send_message(name, {\n        x: x,\n        y: y,\n        button: event.button,\n        step: event.step,\n        modifiers: getModifiers(event),\n        guiEvent: simpleKeys(event),\n    });\n\n    return false;\n};\n\nmpl.figure.prototype._key_event_extra = function (_event, _name) {\n    // Handle any extra behaviour associated with a key event\n};\n\nmpl.figure.prototype.key_event = function (event, name) {\n    // Prevent repeat events\n    if (name === 'key_press') {\n        if (event.key === this._key) {\n            return;\n        } else {\n            this._key = event.key;\n        }\n    }\n    if (name === 'key_release') {\n        this._key = null;\n    }\n\n    var value = '';\n    if (event.ctrlKey && event.key !== 'Control') {\n        value += 'ctrl+';\n    }\n    else if (event.altKey && event.key !== 'Alt') {\n        value += 'alt+';\n    }\n    else if (event.shiftKey && event.key !== 'Shift') {\n        value += 'shift+';\n    }\n\n    value += 'k' + event.key;\n\n    this._key_event_extra(event, name);\n\n    this.send_message(name, { key: value, guiEvent: simpleKeys(event) });\n    return false;\n};\n\nmpl.figure.prototype.toolbar_button_onclick = function (name) {\n    if (name === 'download') {\n        this.handle_save(this, null);\n    } else {\n        this.send_message('toolbar_button', { name: name });\n    }\n};\n\nmpl.figure.prototype.toolbar_button_onmouseover = function (tooltip) {\n    this.message.textContent = tooltip;\n};\n\n///////////////// REMAINING CONTENT GENERATED BY embed_js.py /////////////////\n// prettier-ignore\nvar _JSXTOOLS_RESIZE_OBSERVER=function(A){var t,i=new WeakMap,n=new WeakMap,a=new WeakMap,r=new WeakMap,o=new Set;function s(e){if(!(this instanceof s))throw new TypeError(\"Constructor requires 'new' operator\");i.set(this,e)}function h(){throw new TypeError(\"Function is not a constructor\")}function c(e,t,i,n){e=0 in arguments?Number(arguments[0]):0,t=1 in arguments?Number(arguments[1]):0,i=2 in arguments?Number(arguments[2]):0,n=3 in arguments?Number(arguments[3]):0,this.right=(this.x=this.left=e)+(this.width=i),this.bottom=(this.y=this.top=t)+(this.height=n),Object.freeze(this)}function d(){t=requestAnimationFrame(d);var s=new WeakMap,p=new Set;o.forEach((function(t){r.get(t).forEach((function(i){var r=t instanceof window.SVGElement,o=a.get(t),d=r?0:parseFloat(o.paddingTop),f=r?0:parseFloat(o.paddingRight),l=r?0:parseFloat(o.paddingBottom),u=r?0:parseFloat(o.paddingLeft),g=r?0:parseFloat(o.borderTopWidth),m=r?0:parseFloat(o.borderRightWidth),w=r?0:parseFloat(o.borderBottomWidth),b=u+f,F=d+l,v=(r?0:parseFloat(o.borderLeftWidth))+m,W=g+w,y=r?0:t.offsetHeight-W-t.clientHeight,E=r?0:t.offsetWidth-v-t.clientWidth,R=b+v,z=F+W,M=r?t.width:parseFloat(o.width)-R-E,O=r?t.height:parseFloat(o.height)-z-y;if(n.has(t)){var k=n.get(t);if(k[0]===M&&k[1]===O)return}n.set(t,[M,O]);var S=Object.create(h.prototype);S.target=t,S.contentRect=new c(u,d,M,O),s.has(i)||(s.set(i,[]),p.add(i)),s.get(i).push(S)}))})),p.forEach((function(e){i.get(e).call(e,s.get(e),e)}))}return s.prototype.observe=function(i){if(i instanceof window.Element){r.has(i)||(r.set(i,new Set),o.add(i),a.set(i,window.getComputedStyle(i)));var n=r.get(i);n.has(this)||n.add(this),cancelAnimationFrame(t),t=requestAnimationFrame(d)}},s.prototype.unobserve=function(i){if(i instanceof window.Element&&r.has(i)){var n=r.get(i);n.has(this)&&(n.delete(this),n.size||(r.delete(i),o.delete(i))),n.size||r.delete(i),o.size||cancelAnimationFrame(t)}},A.DOMRectReadOnly=c,A.ResizeObserver=s,A.ResizeObserverEntry=h,A}; // eslint-disable-line\nmpl.toolbar_items = [[\"Home\", \"Reset original view\", \"fa fa-home\", \"home\"], [\"Back\", \"Back to previous view\", \"fa fa-arrow-left\", \"back\"], [\"Forward\", \"Forward to next view\", \"fa fa-arrow-right\", \"forward\"], [\"\", \"\", \"\", \"\"], [\"Pan\", \"Left button pans, Right button zooms\\nx/y fixes axis, CTRL fixes aspect\", \"fa fa-arrows\", \"pan\"], [\"Zoom\", \"Zoom to rectangle\\nx/y fixes axis\", \"fa fa-square-o\", \"zoom\"], [\"\", \"\", \"\", \"\"], [\"Download\", \"Download plot\", \"fa fa-floppy-o\", \"download\"]];\n\nmpl.extensions = [\"eps\", \"jpeg\", \"pgf\", \"pdf\", \"png\", \"ps\", \"raw\", \"svg\", \"tif\", \"webp\"];\n\nmpl.default_extension = \"png\";/* global mpl */\n\nvar comm_websocket_adapter = function (comm) {\n    // Create a \"websocket\"-like object which calls the given IPython comm\n    // object with the appropriate methods. Currently this is a non binary\n    // socket, so there is still some room for performance tuning.\n    var ws = {};\n\n    ws.binaryType = comm.kernel.ws.binaryType;\n    ws.readyState = comm.kernel.ws.readyState;\n    function updateReadyState(_event) {\n        if (comm.kernel.ws) {\n            ws.readyState = comm.kernel.ws.readyState;\n        } else {\n            ws.readyState = 3; // Closed state.\n        }\n    }\n    comm.kernel.ws.addEventListener('open', updateReadyState);\n    comm.kernel.ws.addEventListener('close', updateReadyState);\n    comm.kernel.ws.addEventListener('error', updateReadyState);\n\n    ws.close = function () {\n        comm.close();\n    };\n    ws.send = function (m) {\n        //console.log('sending', m);\n        comm.send(m);\n    };\n    // Register the callback with on_msg.\n    comm.on_msg(function (msg) {\n        //console.log('receiving', msg['content']['data'], msg);\n        var data = msg['content']['data'];\n        if (data['blob'] !== undefined) {\n            data = {\n                data: new Blob(msg['buffers'], { type: data['blob'] }),\n            };\n        }\n        // Pass the mpl event to the overridden (by mpl) onmessage function.\n        ws.onmessage(data);\n    });\n    return ws;\n};\n\nmpl.mpl_figure_comm = function (comm, msg) {\n    // This is the function which gets called when the mpl process\n    // starts-up an IPython Comm through the \"matplotlib\" channel.\n\n    var id = msg.content.data.id;\n    // Get hold of the div created by the display call when the Comm\n    // socket was opened in Python.\n    var element = document.getElementById(id);\n    var ws_proxy = comm_websocket_adapter(comm);\n\n    function ondownload(figure, _format) {\n        window.open(figure.canvas.toDataURL());\n    }\n\n    var fig = new mpl.figure(id, ws_proxy, ondownload, element);\n\n    // Call onopen now - mpl needs it, as it is assuming we've passed it a real\n    // web socket which is closed, not our websocket->open comm proxy.\n    ws_proxy.onopen();\n\n    fig.parent_element = element;\n    fig.cell_info = mpl.find_output_cell(\"<div id='\" + id + \"'></div>\");\n    if (!fig.cell_info) {\n        console.error('Failed to find cell for figure', id, fig);\n        return;\n    }\n    fig.cell_info[0].output_area.element.on(\n        'cleared',\n        { fig: fig },\n        fig._remove_fig_handler\n    );\n};\n\nmpl.figure.prototype.handle_close = function (fig, msg) {\n    var width = fig.canvas.width / fig.ratio;\n    fig.cell_info[0].output_area.element.off(\n        'cleared',\n        fig._remove_fig_handler\n    );\n    fig.resizeObserverInstance.unobserve(fig.canvas_div);\n\n    // Update the output cell to use the data from the current canvas.\n    fig.push_to_output();\n    var dataURL = fig.canvas.toDataURL();\n    // Re-enable the keyboard manager in IPython - without this line, in FF,\n    // the notebook keyboard shortcuts fail.\n    IPython.keyboard_manager.enable();\n    fig.parent_element.innerHTML =\n        '<img src=\"' + dataURL + '\" width=\"' + width + '\">';\n    fig.close_ws(fig, msg);\n};\n\nmpl.figure.prototype.close_ws = function (fig, msg) {\n    fig.send_message('closing', msg);\n    // fig.ws.close()\n};\n\nmpl.figure.prototype.push_to_output = function (_remove_interactive) {\n    // Turn the data on the canvas into data in the output cell.\n    var width = this.canvas.width / this.ratio;\n    var dataURL = this.canvas.toDataURL();\n    this.cell_info[1]['text/html'] =\n        '<img src=\"' + dataURL + '\" width=\"' + width + '\">';\n};\n\nmpl.figure.prototype.updated_canvas_event = function () {\n    // Tell IPython that the notebook contents must change.\n    IPython.notebook.set_dirty(true);\n    this.send_message('ack', {});\n    var fig = this;\n    // Wait a second, then push the new image to the DOM so\n    // that it is saved nicely (might be nice to debounce this).\n    setTimeout(function () {\n        fig.push_to_output();\n    }, 1000);\n};\n\nmpl.figure.prototype._init_toolbar = function () {\n    var fig = this;\n\n    var toolbar = document.createElement('div');\n    toolbar.classList = 'btn-toolbar';\n    this.root.appendChild(toolbar);\n\n    function on_click_closure(name) {\n        return function (_event) {\n            return fig.toolbar_button_onclick(name);\n        };\n    }\n\n    function on_mouseover_closure(tooltip) {\n        return function (event) {\n            if (!event.currentTarget.disabled) {\n                return fig.toolbar_button_onmouseover(tooltip);\n            }\n        };\n    }\n\n    fig.buttons = {};\n    var buttonGroup = document.createElement('div');\n    buttonGroup.classList = 'btn-group';\n    var button;\n    for (var toolbar_ind in mpl.toolbar_items) {\n        var name = mpl.toolbar_items[toolbar_ind][0];\n        var tooltip = mpl.toolbar_items[toolbar_ind][1];\n        var image = mpl.toolbar_items[toolbar_ind][2];\n        var method_name = mpl.toolbar_items[toolbar_ind][3];\n\n        if (!name) {\n            /* Instead of a spacer, we start a new button group. */\n            if (buttonGroup.hasChildNodes()) {\n                toolbar.appendChild(buttonGroup);\n            }\n            buttonGroup = document.createElement('div');\n            buttonGroup.classList = 'btn-group';\n            continue;\n        }\n\n        button = fig.buttons[name] = document.createElement('button');\n        button.classList = 'btn btn-default';\n        button.href = '#';\n        button.title = name;\n        button.innerHTML = '<i class=\"fa ' + image + ' fa-lg\"></i>';\n        button.addEventListener('click', on_click_closure(method_name));\n        button.addEventListener('mouseover', on_mouseover_closure(tooltip));\n        buttonGroup.appendChild(button);\n    }\n\n    if (buttonGroup.hasChildNodes()) {\n        toolbar.appendChild(buttonGroup);\n    }\n\n    // Add the status bar.\n    var status_bar = document.createElement('span');\n    status_bar.classList = 'mpl-message pull-right';\n    toolbar.appendChild(status_bar);\n    this.message = status_bar;\n\n    // Add the close button to the window.\n    var buttongrp = document.createElement('div');\n    buttongrp.classList = 'btn-group inline pull-right';\n    button = document.createElement('button');\n    button.classList = 'btn btn-mini btn-primary';\n    button.href = '#';\n    button.title = 'Stop Interaction';\n    button.innerHTML = '<i class=\"fa fa-power-off icon-remove icon-large\"></i>';\n    button.addEventListener('click', function (_evt) {\n        fig.handle_close(fig, {});\n    });\n    button.addEventListener(\n        'mouseover',\n        on_mouseover_closure('Stop Interaction')\n    );\n    buttongrp.appendChild(button);\n    var titlebar = this.root.querySelector('.ui-dialog-titlebar');\n    titlebar.insertBefore(buttongrp, titlebar.firstChild);\n};\n\nmpl.figure.prototype._remove_fig_handler = function (event) {\n    var fig = event.data.fig;\n    if (event.target !== this) {\n        // Ignore bubbled events from children.\n        return;\n    }\n    fig.close_ws(fig, {});\n};\n\nmpl.figure.prototype._root_extra_style = function (el) {\n    el.style.boxSizing = 'content-box'; // override notebook setting of border-box.\n};\n\nmpl.figure.prototype._canvas_extra_style = function (el) {\n    // this is important to make the div 'focusable\n    el.setAttribute('tabindex', 0);\n    // reach out to IPython and tell the keyboard manager to turn it's self\n    // off when our div gets focus\n\n    // location in version 3\n    if (IPython.notebook.keyboard_manager) {\n        IPython.notebook.keyboard_manager.register_events(el);\n    } else {\n        // location in version 2\n        IPython.keyboard_manager.register_events(el);\n    }\n};\n\nmpl.figure.prototype._key_event_extra = function (event, _name) {\n    // Check for shift+enter\n    if (event.shiftKey && event.which === 13) {\n        this.canvas_div.blur();\n        // select the cell after this one\n        var index = IPython.notebook.find_cell_index(this.cell_info[0]);\n        IPython.notebook.select(index + 1);\n    }\n};\n\nmpl.figure.prototype.handle_save = function (fig, _msg) {\n    fig.ondownload(fig, null);\n};\n\nmpl.find_output_cell = function (html_output) {\n    // Return the cell and output element which can be found *uniquely* in the notebook.\n    // Note - this is a bit hacky, but it is done because the \"notebook_saving.Notebook\"\n    // IPython event is triggered only after the cells have been serialised, which for\n    // our purposes (turning an active figure into a static one), is too late.\n    var cells = IPython.notebook.get_cells();\n    var ncells = cells.length;\n    for (var i = 0; i < ncells; i++) {\n        var cell = cells[i];\n        if (cell.cell_type === 'code') {\n            for (var j = 0; j < cell.output_area.outputs.length; j++) {\n                var data = cell.output_area.outputs[j];\n                if (data.data) {\n                    // IPython >= 3 moved mimebundle to data attribute of output\n                    data = data.data;\n                }\n                if (data['text/html'] === html_output) {\n                    return [cell, data, j];\n                }\n            }\n        }\n    }\n};\n\n// Register the function which deals with the matplotlib target/channel.\n// The kernel may be null if the page has been refreshed.\nif (IPython.notebook.kernel !== null) {\n    IPython.notebook.kernel.comm_manager.register_target(\n        'matplotlib',\n        mpl.mpl_figure_comm\n    );\n}\n",
      "text/plain": [
       "<IPython.core.display.Javascript object>"
      ]
     },
     "metadata": {},
     "output_type": "display_data"
    },
    {
     "data": {
      "text/html": [
       "<div id='3b93ea39-6fac-4276-8e44-2b56893ac172'></div>"
      ],
      "text/plain": [
       "<IPython.core.display.HTML object>"
      ]
     },
     "metadata": {},
     "output_type": "display_data"
    }
   ],
   "source": [
    "# feel free to use the function plot_one() to replicate the figure \n",
    "# from the prompt once you have completed question one\n",
    "def plot_one(degree_predictions):\n",
    "    plt.figure(figsize=(10,5))\n",
    "    plt.plot(X_train, y_train, 'o', label='training data', markersize=10)\n",
    "    plt.plot(X_test, y_test, 'o', label='test data', markersize=10)\n",
    "    for i,degree in enumerate([1,3,6,9]):\n",
    "        plt.plot(np.linspace(0,10,100), degree_predictions[i], alpha=0.8, lw=2, label='degree={}'.format(degree))\n",
    "    plt.ylim(-1,2.5)\n",
    "    plt.legend(loc=4)\n",
    "    return plt.show()\n",
    "\n",
    "plot_one(answer_one())\n"
   ]
  },
  {
   "cell_type": "markdown",
   "metadata": {
    "deletable": false,
    "editable": false,
    "nbgrader": {
     "cell_type": "markdown",
     "checksum": "ce5717d687d83501f4a40391d1343a6c",
     "grade": false,
     "grade_id": "cell-0dc74766a78dd360",
     "locked": true,
     "schema_version": 3,
     "solution": false,
     "task": false
    }
   },
   "source": [
    "### Question 2\n",
    "\n",
    "Write a function that fits a polynomial LinearRegression model on the training data `X_train` for degrees 0 through 9. For each model compute the $R^2$ (coefficient of determination) regression score on the training data as well as the the test data, and return both of these arrays in a tuple.\n",
    "\n",
    "*This function should return a tuple of numpy arrays `(r2_train, r2_test)`. Both arrays should have shape `(10,)`*"
   ]
  },
  {
   "cell_type": "code",
   "execution_count": 4,
   "metadata": {
    "deletable": false,
    "nbgrader": {
     "cell_type": "code",
     "checksum": "396058b742b2cec36e4553b8f24ed21c",
     "grade": false,
     "grade_id": "cell-ae3a83e5eef54645",
     "locked": false,
     "schema_version": 3,
     "solution": true,
     "task": false
    }
   },
   "outputs": [
    {
     "data": {
      "text/plain": [
       "(array([[0.        , 0.42924578, 0.4510998 , 0.58719954, 0.91941945,\n",
       "         0.97578641, 0.99018233, 0.99352509, 0.99637545, 0.99803706]]),\n",
       " array([[-0.47808642, -0.45237104, -0.06856984,  0.00533105,  0.73004943,\n",
       "          0.87708301,  0.9214094 ,  0.92021504,  0.63247953, -0.64525316]]))"
      ]
     },
     "execution_count": 4,
     "metadata": {},
     "output_type": "execute_result"
    }
   ],
   "source": [
    "def answer_two():\n",
    "    from sklearn.linear_model import LinearRegression\n",
    "    from sklearn.preprocessing import PolynomialFeatures\n",
    "    from sklearn.metrics import r2_score\n",
    "\n",
    "    r2tr = []\n",
    "    r2te = []\n",
    "\n",
    "    for i in range(0,10):\n",
    "        poly = PolynomialFeatures(degree=i)\n",
    "        x1_poly = poly.fit_transform(x.reshape(-1,1))\n",
    "\n",
    "        X_train1, X_test1, y_train, y_test = train_test_split(x1_poly, y, random_state=0)\n",
    "        linreg = LinearRegression().fit(X_train1, y_train)\n",
    "        y_train_pred = linreg.predict(poly.fit_transform(X_train.reshape(-1,1)))\n",
    "        y_test_pred = linreg.predict(poly.fit_transform(X_test.reshape(-1,1)))\n",
    "        r2te.append(r2_score(y_test, y_test_pred))\n",
    "        r2tr.append(r2_score(y_train, y_train_pred))\n",
    "\n",
    "    r2_train = np.array([r2tr])\n",
    "    r2_test = np.array([r2te])\n",
    "        \n",
    "    return (r2_train, r2_test)\n",
    "    \n",
    "    # YOUR CODE HERE\n",
    "    #raise NotImplementedError()\n",
    "answer_two()"
   ]
  },
  {
   "cell_type": "code",
   "execution_count": null,
   "metadata": {
    "deletable": false,
    "editable": false,
    "nbgrader": {
     "cell_type": "code",
     "checksum": "4422cf73539e0fd6a3b7d0498d2e7cc4",
     "grade": true,
     "grade_id": "cell-84a9de5d00b87d2f",
     "locked": true,
     "points": 2,
     "schema_version": 3,
     "solution": false,
     "task": false
    }
   },
   "outputs": [],
   "source": []
  },
  {
   "cell_type": "markdown",
   "metadata": {
    "deletable": false,
    "editable": false,
    "nbgrader": {
     "cell_type": "markdown",
     "checksum": "46df6eab1f30c0fb905cecd91de7f86a",
     "grade": false,
     "grade_id": "cell-a61e61b55b9465fc",
     "locked": true,
     "schema_version": 3,
     "solution": false,
     "task": false
    }
   },
   "source": [
    "### Question 3\n",
    "\n",
    "Based on the $R^2$ scores from question 2 (degree levels 0 through 9), what degree level corresponds to a model that is underfitting? What degree level corresponds to a model that is overfitting? What choice of degree level would provide a model with good generalization performance on this dataset? \n",
    "\n",
    "(Hint: Try plotting the $R^2$ scores from question 2 to visualize the relationship)\n",
    "\n",
    "*This function should return a tuple with the degree values in this order: `(Underfitting, Overfitting, Good_Generalization)`*"
   ]
  },
  {
   "cell_type": "code",
   "execution_count": 5,
   "metadata": {
    "deletable": false,
    "nbgrader": {
     "cell_type": "code",
     "checksum": "cd6238e841d4d51362c3687f8ae4841c",
     "grade": false,
     "grade_id": "cell-721bb32d2df3020f",
     "locked": false,
     "schema_version": 3,
     "solution": true,
     "task": false
    }
   },
   "outputs": [
    {
     "data": {
      "text/plain": [
       "(0, 9, 7)"
      ]
     },
     "execution_count": 5,
     "metadata": {},
     "output_type": "execute_result"
    }
   ],
   "source": [
    "def answer_three():\n",
    "    # YOUR CODE HERE\n",
    "    u = 1\n",
    "    o = 0\n",
    "    g = 0.5\n",
    "    cu = 0\n",
    "    co = 0\n",
    "    cg = 0\n",
    "    r2_train = answer_two()[0].reshape(-1)\n",
    "    r2_test = answer_two()[1].reshape(-1)\n",
    "    for i in range(0,10):\n",
    "        if (r2_train[i] + r2_test[i])/2 < u:\n",
    "            u = (r2_train[i] + r2_test[i])/2\n",
    "            cu = i\n",
    "        if (r2_train[i] + r2_test[i])/2 > g:\n",
    "            g = (r2_train[i] + r2_test[i])/2\n",
    "            cg = i\n",
    "        if r2_train[i] - r2_test[i] > o:\n",
    "            o = r2_train[i] - r2_test[i]\n",
    "            co = i\n",
    "    return (cu, co, cg)\n",
    "        \n",
    "answer_three()\n",
    "        \n",
    "    #raise NotImplementedError()"
   ]
  },
  {
   "cell_type": "code",
   "execution_count": null,
   "metadata": {
    "deletable": false,
    "editable": false,
    "nbgrader": {
     "cell_type": "code",
     "checksum": "ffd5b85a04844aeed8bcfe38dd943faf",
     "grade": true,
     "grade_id": "cell-877e9f32963e0d5a",
     "locked": true,
     "points": 1,
     "schema_version": 3,
     "solution": false,
     "task": false
    }
   },
   "outputs": [],
   "source": []
  },
  {
   "cell_type": "markdown",
   "metadata": {
    "deletable": false,
    "editable": false,
    "nbgrader": {
     "cell_type": "markdown",
     "checksum": "828cf6c6860722b3f89ca2a667a8dd4f",
     "grade": false,
     "grade_id": "cell-a99d81381fbc35ee",
     "locked": true,
     "schema_version": 3,
     "solution": false,
     "task": false
    }
   },
   "source": [
    "### Question 4\n",
    "\n",
    "Training models on high degree polynomial features can result in overfitting. Train two models: a non-regularized LinearRegression model and a Lasso Regression model (with parameters `alpha=0.01`, `max_iter=10000`, `tol=0.1`) on polynomial features of degree 12. Return the $R^2$ score for LinearRegression and Lasso model's test sets.\n",
    "\n",
    "*This function should return a tuple `(LinearRegression_R2_test_score, Lasso_R2_test_score)`*"
   ]
  },
  {
   "cell_type": "code",
   "execution_count": 6,
   "metadata": {
    "deletable": false,
    "nbgrader": {
     "cell_type": "code",
     "checksum": "fc87206e6c599bd5e911bfbf6d833dc4",
     "grade": false,
     "grade_id": "cell-55ab7af2f78e174e",
     "locked": false,
     "schema_version": 3,
     "solution": true,
     "task": false
    }
   },
   "outputs": [
    {
     "data": {
      "text/plain": [
       "(-4.311957069817154, 0.6051396919570032)"
      ]
     },
     "execution_count": 6,
     "metadata": {},
     "output_type": "execute_result"
    }
   ],
   "source": [
    "def answer_four():\n",
    "    from sklearn.preprocessing import PolynomialFeatures\n",
    "    from sklearn.linear_model import Lasso, LinearRegression\n",
    "    from sklearn.metrics import r2_score\n",
    "    \n",
    "    poly = PolynomialFeatures(degree = 12)\n",
    "    x_poly = poly.fit_transform(x.reshape(-1,1))\n",
    "    \n",
    "    Xp_train, Xp_test, yp_train, yp_test = train_test_split(x_poly, y, random_state = 0)\n",
    "    \n",
    "    linreg = LinearRegression().fit(Xp_train, yp_train)\n",
    "    y_lin_pred = linreg.predict(poly.fit_transform(X_test.reshape(-1,1)))\n",
    "    LinearRegression_R2_test_score = r2_score(y_test, y_lin_pred)\n",
    "    \n",
    "\n",
    "    lasso = Lasso(alpha=0.01, max_iter = 10000, tol = 0.1).fit(Xp_train, yp_train)\n",
    "    y_lasso_pred = lasso.predict(poly.fit_transform(X_test.reshape(-1,1)))\n",
    "    Lasso_R2_test_score = r2_score(y_test, y_lasso_pred)\n",
    "    \n",
    "    \n",
    "    return (LinearRegression_R2_test_score, Lasso_R2_test_score)\n",
    "\n",
    "answer_four()\n",
    "    # YOUR CODE HERE\n",
    "    #raise NotImplementedError()"
   ]
  },
  {
   "cell_type": "code",
   "execution_count": null,
   "metadata": {
    "deletable": false,
    "editable": false,
    "nbgrader": {
     "cell_type": "code",
     "checksum": "7b7288eaac59a3be8999b26c2bdef060",
     "grade": true,
     "grade_id": "cell-f1ccfec3713e840c",
     "locked": true,
     "points": 2,
     "schema_version": 3,
     "solution": false,
     "task": false
    }
   },
   "outputs": [],
   "source": []
  },
  {
   "cell_type": "markdown",
   "metadata": {
    "deletable": false,
    "editable": false,
    "nbgrader": {
     "cell_type": "markdown",
     "checksum": "17c987a4ffba18ec6723810fba58241f",
     "grade": false,
     "grade_id": "cell-31c2ed693fab43e6",
     "locked": true,
     "schema_version": 3,
     "solution": false,
     "task": false
    }
   },
   "source": [
    "## Part 2 - Classification\n",
    "\n",
    "For this section of the assignment we will be working with the [UCI Mushroom Data Set](http://archive.ics.uci.edu/ml/datasets/Mushroom?ref=datanews.io) stored in `mushrooms.csv`. The data will be used to trian a model to predict whether or not a mushroom is poisonous. The following attributes are provided:\n",
    "\n",
    "*Attribute Information:*\n",
    "\n",
    "1. cap-shape: bell=b, conical=c, convex=x, flat=f, knobbed=k, sunken=s \n",
    "2. cap-surface: fibrous=f, grooves=g, scaly=y, smooth=s \n",
    "3. cap-color: brown=n, buff=b, cinnamon=c, gray=g, green=r, pink=p, purple=u, red=e, white=w, yellow=y \n",
    "4. bruises?: bruises=t, no=f \n",
    "5. odor: almond=a, anise=l, creosote=c, fishy=y, foul=f, musty=m, none=n, pungent=p, spicy=s \n",
    "6. gill-attachment: attached=a, descending=d, free=f, notched=n \n",
    "7. gill-spacing: close=c, crowded=w, distant=d \n",
    "8. gill-size: broad=b, narrow=n \n",
    "9. gill-color: black=k, brown=n, buff=b, chocolate=h, gray=g, green=r, orange=o, pink=p, purple=u, red=e, white=w, yellow=y \n",
    "10. stalk-shape: enlarging=e, tapering=t \n",
    "11. stalk-root: bulbous=b, club=c, cup=u, equal=e, rhizomorphs=z, rooted=r, missing=? \n",
    "12. stalk-surface-above-ring: fibrous=f, scaly=y, silky=k, smooth=s \n",
    "13. stalk-surface-below-ring: fibrous=f, scaly=y, silky=k, smooth=s \n",
    "14. stalk-color-above-ring: brown=n, buff=b, cinnamon=c, gray=g, orange=o, pink=p, red=e, white=w, yellow=y \n",
    "15. stalk-color-below-ring: brown=n, buff=b, cinnamon=c, gray=g, orange=o, pink=p, red=e, white=w, yellow=y \n",
    "16. veil-type: partial=p, universal=u \n",
    "17. veil-color: brown=n, orange=o, white=w, yellow=y \n",
    "18. ring-number: none=n, one=o, two=t \n",
    "19. ring-type: cobwebby=c, evanescent=e, flaring=f, large=l, none=n, pendant=p, sheathing=s, zone=z \n",
    "20. spore-print-color: black=k, brown=n, buff=b, chocolate=h, green=r, orange=o, purple=u, white=w, yellow=y \n",
    "21. population: abundant=a, clustered=c, numerous=n, scattered=s, several=v, solitary=y \n",
    "22. habitat: grasses=g, leaves=l, meadows=m, paths=p, urban=u, waste=w, woods=d\n",
    "\n",
    "<br>\n",
    "\n",
    "The data in the mushrooms dataset is currently encoded with strings. These values will need to be encoded to numeric to work with sklearn. We'll use pd.get_dummies to convert the categorical variables into indicator variables. "
   ]
  },
  {
   "cell_type": "code",
   "execution_count": 7,
   "metadata": {
    "deletable": false,
    "editable": false,
    "nbgrader": {
     "cell_type": "code",
     "checksum": "af003949c9018bed0b7c646cd4b0b03f",
     "grade": false,
     "grade_id": "cell-e7c80d01d6d17d4d",
     "locked": true,
     "schema_version": 3,
     "solution": false,
     "task": false
    }
   },
   "outputs": [],
   "source": [
    "import pandas as pd\n",
    "import numpy as np\n",
    "from sklearn.model_selection import train_test_split\n",
    "\n",
    "\n",
    "mush_df = pd.read_csv('assets/mushrooms.csv')\n",
    "mush_df2 = pd.get_dummies(mush_df)\n",
    "\n",
    "X_mush = mush_df2.iloc[:,2:]\n",
    "y_mush = mush_df2.iloc[:,1]\n",
    "\n",
    "\n",
    "X_train2, X_test2, y_train2, y_test2 = train_test_split(X_mush, y_mush, random_state=0)"
   ]
  },
  {
   "cell_type": "markdown",
   "metadata": {
    "deletable": false,
    "editable": false,
    "nbgrader": {
     "cell_type": "markdown",
     "checksum": "a309b42233d5f15c15d791c51599a8df",
     "grade": false,
     "grade_id": "cell-586eff0179eb4e48",
     "locked": true,
     "schema_version": 3,
     "solution": false,
     "task": false
    }
   },
   "source": [
    "### Question 5\n",
    "\n",
    "Using `X_train` and `y_train` from the preceeding cell, train a DecisionTreeClassifier with default parameters and random_state=0. What are the 5 most important features found by the decision tree?\n",
    "\n",
    "*This function should return a list of length 5 of the feature names in descending order of importance.*"
   ]
  },
  {
   "cell_type": "code",
   "execution_count": 8,
   "metadata": {},
   "outputs": [
    {
     "data": {
      "text/html": [
       "<div>\n",
       "<style scoped>\n",
       "    .dataframe tbody tr th:only-of-type {\n",
       "        vertical-align: middle;\n",
       "    }\n",
       "\n",
       "    .dataframe tbody tr th {\n",
       "        vertical-align: top;\n",
       "    }\n",
       "\n",
       "    .dataframe thead th {\n",
       "        text-align: right;\n",
       "    }\n",
       "</style>\n",
       "<table border=\"1\" class=\"dataframe\">\n",
       "  <thead>\n",
       "    <tr style=\"text-align: right;\">\n",
       "      <th></th>\n",
       "      <th>cap-shape_b</th>\n",
       "      <th>cap-shape_c</th>\n",
       "      <th>cap-shape_f</th>\n",
       "      <th>cap-shape_k</th>\n",
       "      <th>cap-shape_s</th>\n",
       "      <th>cap-shape_x</th>\n",
       "      <th>cap-surface_f</th>\n",
       "      <th>cap-surface_g</th>\n",
       "      <th>cap-surface_s</th>\n",
       "      <th>cap-surface_y</th>\n",
       "      <th>...</th>\n",
       "      <th>population_s</th>\n",
       "      <th>population_v</th>\n",
       "      <th>population_y</th>\n",
       "      <th>habitat_d</th>\n",
       "      <th>habitat_g</th>\n",
       "      <th>habitat_l</th>\n",
       "      <th>habitat_m</th>\n",
       "      <th>habitat_p</th>\n",
       "      <th>habitat_u</th>\n",
       "      <th>habitat_w</th>\n",
       "    </tr>\n",
       "  </thead>\n",
       "  <tbody>\n",
       "    <tr>\n",
       "      <th>0</th>\n",
       "      <td>False</td>\n",
       "      <td>False</td>\n",
       "      <td>False</td>\n",
       "      <td>False</td>\n",
       "      <td>False</td>\n",
       "      <td>True</td>\n",
       "      <td>False</td>\n",
       "      <td>False</td>\n",
       "      <td>True</td>\n",
       "      <td>False</td>\n",
       "      <td>...</td>\n",
       "      <td>True</td>\n",
       "      <td>False</td>\n",
       "      <td>False</td>\n",
       "      <td>False</td>\n",
       "      <td>False</td>\n",
       "      <td>False</td>\n",
       "      <td>False</td>\n",
       "      <td>False</td>\n",
       "      <td>True</td>\n",
       "      <td>False</td>\n",
       "    </tr>\n",
       "    <tr>\n",
       "      <th>1</th>\n",
       "      <td>False</td>\n",
       "      <td>False</td>\n",
       "      <td>False</td>\n",
       "      <td>False</td>\n",
       "      <td>False</td>\n",
       "      <td>True</td>\n",
       "      <td>False</td>\n",
       "      <td>False</td>\n",
       "      <td>True</td>\n",
       "      <td>False</td>\n",
       "      <td>...</td>\n",
       "      <td>False</td>\n",
       "      <td>False</td>\n",
       "      <td>False</td>\n",
       "      <td>False</td>\n",
       "      <td>True</td>\n",
       "      <td>False</td>\n",
       "      <td>False</td>\n",
       "      <td>False</td>\n",
       "      <td>False</td>\n",
       "      <td>False</td>\n",
       "    </tr>\n",
       "    <tr>\n",
       "      <th>2</th>\n",
       "      <td>True</td>\n",
       "      <td>False</td>\n",
       "      <td>False</td>\n",
       "      <td>False</td>\n",
       "      <td>False</td>\n",
       "      <td>False</td>\n",
       "      <td>False</td>\n",
       "      <td>False</td>\n",
       "      <td>True</td>\n",
       "      <td>False</td>\n",
       "      <td>...</td>\n",
       "      <td>False</td>\n",
       "      <td>False</td>\n",
       "      <td>False</td>\n",
       "      <td>False</td>\n",
       "      <td>False</td>\n",
       "      <td>False</td>\n",
       "      <td>True</td>\n",
       "      <td>False</td>\n",
       "      <td>False</td>\n",
       "      <td>False</td>\n",
       "    </tr>\n",
       "    <tr>\n",
       "      <th>3</th>\n",
       "      <td>False</td>\n",
       "      <td>False</td>\n",
       "      <td>False</td>\n",
       "      <td>False</td>\n",
       "      <td>False</td>\n",
       "      <td>True</td>\n",
       "      <td>False</td>\n",
       "      <td>False</td>\n",
       "      <td>False</td>\n",
       "      <td>True</td>\n",
       "      <td>...</td>\n",
       "      <td>True</td>\n",
       "      <td>False</td>\n",
       "      <td>False</td>\n",
       "      <td>False</td>\n",
       "      <td>False</td>\n",
       "      <td>False</td>\n",
       "      <td>False</td>\n",
       "      <td>False</td>\n",
       "      <td>True</td>\n",
       "      <td>False</td>\n",
       "    </tr>\n",
       "    <tr>\n",
       "      <th>4</th>\n",
       "      <td>False</td>\n",
       "      <td>False</td>\n",
       "      <td>False</td>\n",
       "      <td>False</td>\n",
       "      <td>False</td>\n",
       "      <td>True</td>\n",
       "      <td>False</td>\n",
       "      <td>False</td>\n",
       "      <td>True</td>\n",
       "      <td>False</td>\n",
       "      <td>...</td>\n",
       "      <td>False</td>\n",
       "      <td>False</td>\n",
       "      <td>False</td>\n",
       "      <td>False</td>\n",
       "      <td>True</td>\n",
       "      <td>False</td>\n",
       "      <td>False</td>\n",
       "      <td>False</td>\n",
       "      <td>False</td>\n",
       "      <td>False</td>\n",
       "    </tr>\n",
       "    <tr>\n",
       "      <th>...</th>\n",
       "      <td>...</td>\n",
       "      <td>...</td>\n",
       "      <td>...</td>\n",
       "      <td>...</td>\n",
       "      <td>...</td>\n",
       "      <td>...</td>\n",
       "      <td>...</td>\n",
       "      <td>...</td>\n",
       "      <td>...</td>\n",
       "      <td>...</td>\n",
       "      <td>...</td>\n",
       "      <td>...</td>\n",
       "      <td>...</td>\n",
       "      <td>...</td>\n",
       "      <td>...</td>\n",
       "      <td>...</td>\n",
       "      <td>...</td>\n",
       "      <td>...</td>\n",
       "      <td>...</td>\n",
       "      <td>...</td>\n",
       "      <td>...</td>\n",
       "    </tr>\n",
       "    <tr>\n",
       "      <th>8119</th>\n",
       "      <td>False</td>\n",
       "      <td>False</td>\n",
       "      <td>False</td>\n",
       "      <td>True</td>\n",
       "      <td>False</td>\n",
       "      <td>False</td>\n",
       "      <td>False</td>\n",
       "      <td>False</td>\n",
       "      <td>True</td>\n",
       "      <td>False</td>\n",
       "      <td>...</td>\n",
       "      <td>False</td>\n",
       "      <td>False</td>\n",
       "      <td>False</td>\n",
       "      <td>False</td>\n",
       "      <td>False</td>\n",
       "      <td>True</td>\n",
       "      <td>False</td>\n",
       "      <td>False</td>\n",
       "      <td>False</td>\n",
       "      <td>False</td>\n",
       "    </tr>\n",
       "    <tr>\n",
       "      <th>8120</th>\n",
       "      <td>False</td>\n",
       "      <td>False</td>\n",
       "      <td>False</td>\n",
       "      <td>False</td>\n",
       "      <td>False</td>\n",
       "      <td>True</td>\n",
       "      <td>False</td>\n",
       "      <td>False</td>\n",
       "      <td>True</td>\n",
       "      <td>False</td>\n",
       "      <td>...</td>\n",
       "      <td>False</td>\n",
       "      <td>True</td>\n",
       "      <td>False</td>\n",
       "      <td>False</td>\n",
       "      <td>False</td>\n",
       "      <td>True</td>\n",
       "      <td>False</td>\n",
       "      <td>False</td>\n",
       "      <td>False</td>\n",
       "      <td>False</td>\n",
       "    </tr>\n",
       "    <tr>\n",
       "      <th>8121</th>\n",
       "      <td>False</td>\n",
       "      <td>False</td>\n",
       "      <td>True</td>\n",
       "      <td>False</td>\n",
       "      <td>False</td>\n",
       "      <td>False</td>\n",
       "      <td>False</td>\n",
       "      <td>False</td>\n",
       "      <td>True</td>\n",
       "      <td>False</td>\n",
       "      <td>...</td>\n",
       "      <td>False</td>\n",
       "      <td>False</td>\n",
       "      <td>False</td>\n",
       "      <td>False</td>\n",
       "      <td>False</td>\n",
       "      <td>True</td>\n",
       "      <td>False</td>\n",
       "      <td>False</td>\n",
       "      <td>False</td>\n",
       "      <td>False</td>\n",
       "    </tr>\n",
       "    <tr>\n",
       "      <th>8122</th>\n",
       "      <td>False</td>\n",
       "      <td>False</td>\n",
       "      <td>False</td>\n",
       "      <td>True</td>\n",
       "      <td>False</td>\n",
       "      <td>False</td>\n",
       "      <td>False</td>\n",
       "      <td>False</td>\n",
       "      <td>False</td>\n",
       "      <td>True</td>\n",
       "      <td>...</td>\n",
       "      <td>False</td>\n",
       "      <td>True</td>\n",
       "      <td>False</td>\n",
       "      <td>False</td>\n",
       "      <td>False</td>\n",
       "      <td>True</td>\n",
       "      <td>False</td>\n",
       "      <td>False</td>\n",
       "      <td>False</td>\n",
       "      <td>False</td>\n",
       "    </tr>\n",
       "    <tr>\n",
       "      <th>8123</th>\n",
       "      <td>False</td>\n",
       "      <td>False</td>\n",
       "      <td>False</td>\n",
       "      <td>False</td>\n",
       "      <td>False</td>\n",
       "      <td>True</td>\n",
       "      <td>False</td>\n",
       "      <td>False</td>\n",
       "      <td>True</td>\n",
       "      <td>False</td>\n",
       "      <td>...</td>\n",
       "      <td>False</td>\n",
       "      <td>False</td>\n",
       "      <td>False</td>\n",
       "      <td>False</td>\n",
       "      <td>False</td>\n",
       "      <td>True</td>\n",
       "      <td>False</td>\n",
       "      <td>False</td>\n",
       "      <td>False</td>\n",
       "      <td>False</td>\n",
       "    </tr>\n",
       "  </tbody>\n",
       "</table>\n",
       "<p>8124 rows × 117 columns</p>\n",
       "</div>"
      ],
      "text/plain": [
       "      cap-shape_b  cap-shape_c  cap-shape_f  cap-shape_k  cap-shape_s  \\\n",
       "0           False        False        False        False        False   \n",
       "1           False        False        False        False        False   \n",
       "2            True        False        False        False        False   \n",
       "3           False        False        False        False        False   \n",
       "4           False        False        False        False        False   \n",
       "...           ...          ...          ...          ...          ...   \n",
       "8119        False        False        False         True        False   \n",
       "8120        False        False        False        False        False   \n",
       "8121        False        False         True        False        False   \n",
       "8122        False        False        False         True        False   \n",
       "8123        False        False        False        False        False   \n",
       "\n",
       "      cap-shape_x  cap-surface_f  cap-surface_g  cap-surface_s  cap-surface_y  \\\n",
       "0            True          False          False           True          False   \n",
       "1            True          False          False           True          False   \n",
       "2           False          False          False           True          False   \n",
       "3            True          False          False          False           True   \n",
       "4            True          False          False           True          False   \n",
       "...           ...            ...            ...            ...            ...   \n",
       "8119        False          False          False           True          False   \n",
       "8120         True          False          False           True          False   \n",
       "8121        False          False          False           True          False   \n",
       "8122        False          False          False          False           True   \n",
       "8123         True          False          False           True          False   \n",
       "\n",
       "      ...  population_s  population_v  population_y  habitat_d  habitat_g  \\\n",
       "0     ...          True         False         False      False      False   \n",
       "1     ...         False         False         False      False       True   \n",
       "2     ...         False         False         False      False      False   \n",
       "3     ...          True         False         False      False      False   \n",
       "4     ...         False         False         False      False       True   \n",
       "...   ...           ...           ...           ...        ...        ...   \n",
       "8119  ...         False         False         False      False      False   \n",
       "8120  ...         False          True         False      False      False   \n",
       "8121  ...         False         False         False      False      False   \n",
       "8122  ...         False          True         False      False      False   \n",
       "8123  ...         False         False         False      False      False   \n",
       "\n",
       "      habitat_l  habitat_m  habitat_p  habitat_u  habitat_w  \n",
       "0         False      False      False       True      False  \n",
       "1         False      False      False      False      False  \n",
       "2         False       True      False      False      False  \n",
       "3         False      False      False       True      False  \n",
       "4         False      False      False      False      False  \n",
       "...         ...        ...        ...        ...        ...  \n",
       "8119       True      False      False      False      False  \n",
       "8120       True      False      False      False      False  \n",
       "8121       True      False      False      False      False  \n",
       "8122       True      False      False      False      False  \n",
       "8123       True      False      False      False      False  \n",
       "\n",
       "[8124 rows x 117 columns]"
      ]
     },
     "execution_count": 8,
     "metadata": {},
     "output_type": "execute_result"
    }
   ],
   "source": [
    "X_mush"
   ]
  },
  {
   "cell_type": "code",
   "execution_count": 9,
   "metadata": {
    "deletable": false,
    "nbgrader": {
     "cell_type": "code",
     "checksum": "b34331dd3525c3b25fbc73519bbd7e01",
     "grade": false,
     "grade_id": "cell-55ff1f0e1941bc35",
     "locked": false,
     "schema_version": 3,
     "solution": true,
     "task": false
    }
   },
   "outputs": [
    {
     "data": {
      "text/plain": [
       "['odor_n', 'stalk-root_c', 'stalk-root_r', 'spore-print-color_r', 'odor_l']"
      ]
     },
     "execution_count": 9,
     "metadata": {},
     "output_type": "execute_result"
    }
   ],
   "source": [
    "def answer_five():\n",
    "    from sklearn.tree import DecisionTreeClassifier\n",
    "    \n",
    "    clf = DecisionTreeClassifier(random_state = 0).fit(X_train2, y_train2)\n",
    "    \n",
    "    fi = clf.feature_importances_\n",
    "    \n",
    "    arr  = np.sort(fi)\n",
    "    \n",
    "    col =[]\n",
    "    \n",
    "    for i in [-1,-2,-3,-4,-5]:\n",
    "        index = list(fi).index(arr[i])\n",
    "        col.append(X_mush.columns[index])\n",
    "    \n",
    "    return col\n",
    "\n",
    "answer_five()\n",
    "    # YOUR CODE HERE\n",
    "    #raise NotImplementedError()"
   ]
  },
  {
   "cell_type": "code",
   "execution_count": null,
   "metadata": {
    "deletable": false,
    "editable": false,
    "nbgrader": {
     "cell_type": "code",
     "checksum": "4102243cb57cca9cf6c64b8377eef091",
     "grade": true,
     "grade_id": "cell-45bb9fef0723e714",
     "locked": true,
     "points": 2,
     "schema_version": 3,
     "solution": false,
     "task": false
    }
   },
   "outputs": [],
   "source": []
  },
  {
   "cell_type": "markdown",
   "metadata": {
    "deletable": false,
    "editable": false,
    "nbgrader": {
     "cell_type": "markdown",
     "checksum": "dac6022b713452cb6bb37c201782b44d",
     "grade": false,
     "grade_id": "cell-175384240dac6faa",
     "locked": true,
     "schema_version": 3,
     "solution": false,
     "task": false
    }
   },
   "source": [
    "### Question 6\n",
    "\n",
    "For this question, use the `validation_curve` function in `sklearn.model_selection` to determine training and test scores for a Support Vector Classifier (`SVC`) with varying parameter values.\n",
    "\n",
    "Create an `SVC` with default parameters (i.e. `kernel='rbf', C=1`) and `random_state=0`. Recall that the kernel width of the RBF kernel is controlled using the `gamma` parameter.  Explore the effect of `gamma` on classifier accuracy by using the `validation_curve` function to find the training and test scores for 6 values of `gamma` from `0.0001` to `10` (i.e. `np.logspace(-4,1,6)`).\n",
    "\n",
    "For each level of `gamma`, `validation_curve` will use 3-fold cross validation (use `cv=3, n_jobs=2` as parameters for `validation_curve`), returning two 6x3 (6 levels of gamma x 3 fits per level) arrays of the scores for the training and test sets in each fold.\n",
    "\n",
    "Find the mean score across the five models for each level of `gamma` for both arrays, creating two arrays of length 6, and return a tuple with the two arrays.\n",
    "\n",
    "e.g.\n",
    "\n",
    "if one of your array of scores is\n",
    "\n",
    "    array([[ 0.5,  0.4,  0.6],\n",
    "           [ 0.7,  0.8,  0.7],\n",
    "           [ 0.9,  0.8,  0.8],\n",
    "           [ 0.8,  0.7,  0.8],\n",
    "           [ 0.7,  0.6,  0.6],\n",
    "           [ 0.4,  0.6,  0.5]])\n",
    "       \n",
    "it should then become\n",
    "\n",
    "    array([ 0.5,  0.73333333,  0.83333333,  0.76666667,  0.63333333, 0.5])\n",
    "\n",
    "*This function should return a tuple of numpy arrays `(training_scores, test_scores)` where each array in the tuple has shape `(6,)`.*"
   ]
  },
  {
   "cell_type": "code",
   "execution_count": 60,
   "metadata": {
    "deletable": false,
    "nbgrader": {
     "cell_type": "code",
     "checksum": "65d5ad93c05a09042f9a32c0f8b84b9f",
     "grade": false,
     "grade_id": "cell-87cac6bdc8ea12a4",
     "locked": false,
     "schema_version": 3,
     "solution": true,
     "task": false
    }
   },
   "outputs": [
    {
     "data": {
      "text/plain": [
       "(array([0.89838749, 0.98104382, 0.99895372, 1.        , 1.        ,\n",
       "        1.        ]),\n",
       " array([0.88749385, 0.82951748, 0.84170359, 0.86582964, 0.83616445,\n",
       "        0.51797144]))"
      ]
     },
     "execution_count": 60,
     "metadata": {},
     "output_type": "execute_result"
    }
   ],
   "source": [
    "def answer_six():\n",
    "    from sklearn.svm import SVC\n",
    "    from sklearn.model_selection import validation_curve\n",
    "    \n",
    "    #for this_gamma in np.logspace(-4,1,6):\n",
    "    #    clf = svc(kernel='rbf', C=1, random_state=0).fit(X_train, y_train)\n",
    "    \n",
    "    param_range = np.logspace(-4,1,6)\n",
    "    train_scores, test_scores = validation_curve(SVC(kernel='rbf', C=1, random_state=0), X_mush, y_mush,\n",
    "                                            param_name='gamma',\n",
    "                                            param_range=param_range, cv=3, n_jobs =2)\n",
    "    train = []\n",
    "\n",
    "    for i in range(len(train_scores)):\n",
    "        s = 0\n",
    "        for n in range(len(train_scores[i])):\n",
    "            s = s + train_scores[i][n]\n",
    "\n",
    "        train.append(s/len(train_scores[i]))\n",
    "    \n",
    "    test = []\n",
    "\n",
    "    for i in range(len(test_scores)):\n",
    "        s = 0\n",
    "        for n in range(len(test_scores[i])):\n",
    "            s = s + test_scores[i][n]\n",
    "            \n",
    "        test.append(s/len(test_scores[i]))\n",
    "\n",
    "\n",
    "    return (np.array(train), np.array(test))\n",
    "\n",
    "answer_six()\n",
    "    # YOUR CODE HERE\n",
    "    #raise NotImplementedError()"
   ]
  },
  {
   "cell_type": "code",
   "execution_count": null,
   "metadata": {
    "deletable": false,
    "editable": false,
    "nbgrader": {
     "cell_type": "code",
     "checksum": "78bed9b2bb9eabdf0c3072db27c1af28",
     "grade": true,
     "grade_id": "cell-ae2a630e8862c3a3",
     "locked": true,
     "points": 2,
     "schema_version": 3,
     "solution": false,
     "task": false
    }
   },
   "outputs": [],
   "source": []
  },
  {
   "cell_type": "code",
   "execution_count": 49,
   "metadata": {},
   "outputs": [
    {
     "data": {
      "text/plain": [
       "[0.8874938433333334,\n",
       " 0.8295174766666668,\n",
       " 0.8417035933333333,\n",
       " 0.86582964,\n",
       " 0.8361644500000001,\n",
       " 0.5179714400000001]"
      ]
     },
     "execution_count": 49,
     "metadata": {},
     "output_type": "execute_result"
    }
   ],
   "source": [
    "arr = ([[0.82717873, 0.87370753, 0.96159527],\n",
    "       [0.83493353, 0.87370753, 0.77991137],\n",
    "       [0.8478582 , 0.96085672, 0.71639586],\n",
    "       [0.90546529, 0.99002954, 0.70199409],\n",
    "       [0.86779911, 0.94202363, 0.69867061],\n",
    "       [0.51772526, 0.51809453, 0.51809453]])\n",
    "\n",
    "train = []\n",
    "\n",
    "for i in range(len(arr)):\n",
    "    s = 0\n",
    "    for n in range(len(arr[i])):\n",
    "        s = s + arr[i][n]\n",
    "    train.append(s/len(arr[i]))\n",
    "train\n"
   ]
  },
  {
   "cell_type": "code",
   "execution_count": 72,
   "metadata": {},
   "outputs": [
    {
     "name": "stdout",
     "output_type": "stream",
     "text": [
      "0 0.0001\n",
      "1 0.001\n",
      "2 0.01\n",
      "3 0.1\n",
      "4 1.0\n",
      "5 10.0\n"
     ]
    }
   ],
   "source": [
    "from sklearn.svm import SVC\n",
    "from sklearn.model_selection import validation_curve\n",
    "\n",
    "param_range = np.logspace(-4,1,6)\n",
    "#train_scores, test_scores = validation_curve(SVC(kernel='rbf', C=1, random_state=0), X_mush, y_mush,\n",
    "#                                            param_name='gamma',\n",
    "#                                            param_range=param_range, cv=3, n_jobs =2)\n",
    "for i, gamma, in enumerate(param_range):\n",
    "    print(i, gamma)"
   ]
  },
  {
   "cell_type": "code",
   "execution_count": 61,
   "metadata": {},
   "outputs": [],
   "source": [
    "a = answer_six()\n"
   ]
  },
  {
   "cell_type": "code",
   "execution_count": 84,
   "metadata": {},
   "outputs": [
    {
     "data": {
      "application/javascript": "/* Put everything inside the global mpl namespace */\n/* global mpl */\nwindow.mpl = {};\n\nmpl.get_websocket_type = function () {\n    if (typeof WebSocket !== 'undefined') {\n        return WebSocket;\n    } else if (typeof MozWebSocket !== 'undefined') {\n        return MozWebSocket;\n    } else {\n        alert(\n            'Your browser does not have WebSocket support. ' +\n                'Please try Chrome, Safari or Firefox ≥ 6. ' +\n                'Firefox 4 and 5 are also supported but you ' +\n                'have to enable WebSockets in about:config.'\n        );\n    }\n};\n\nmpl.figure = function (figure_id, websocket, ondownload, parent_element) {\n    this.id = figure_id;\n\n    this.ws = websocket;\n\n    this.supports_binary = this.ws.binaryType !== undefined;\n\n    if (!this.supports_binary) {\n        var warnings = document.getElementById('mpl-warnings');\n        if (warnings) {\n            warnings.style.display = 'block';\n            warnings.textContent =\n                'This browser does not support binary websocket messages. ' +\n                'Performance may be slow.';\n        }\n    }\n\n    this.imageObj = new Image();\n\n    this.context = undefined;\n    this.message = undefined;\n    this.canvas = undefined;\n    this.rubberband_canvas = undefined;\n    this.rubberband_context = undefined;\n    this.format_dropdown = undefined;\n\n    this.image_mode = 'full';\n\n    this.root = document.createElement('div');\n    this.root.setAttribute('style', 'display: inline-block');\n    this._root_extra_style(this.root);\n\n    parent_element.appendChild(this.root);\n\n    this._init_header(this);\n    this._init_canvas(this);\n    this._init_toolbar(this);\n\n    var fig = this;\n\n    this.waiting = false;\n\n    this.ws.onopen = function () {\n        fig.send_message('supports_binary', { value: fig.supports_binary });\n        fig.send_message('send_image_mode', {});\n        if (fig.ratio !== 1) {\n            fig.send_message('set_device_pixel_ratio', {\n                device_pixel_ratio: fig.ratio,\n            });\n        }\n        fig.send_message('refresh', {});\n    };\n\n    this.imageObj.onload = function () {\n        if (fig.image_mode === 'full') {\n            // Full images could contain transparency (where diff images\n            // almost always do), so we need to clear the canvas so that\n            // there is no ghosting.\n            fig.context.clearRect(0, 0, fig.canvas.width, fig.canvas.height);\n        }\n        fig.context.drawImage(fig.imageObj, 0, 0);\n    };\n\n    this.imageObj.onunload = function () {\n        fig.ws.close();\n    };\n\n    this.ws.onmessage = this._make_on_message_function(this);\n\n    this.ondownload = ondownload;\n};\n\nmpl.figure.prototype._init_header = function () {\n    var titlebar = document.createElement('div');\n    titlebar.classList =\n        'ui-dialog-titlebar ui-widget-header ui-corner-all ui-helper-clearfix';\n    var titletext = document.createElement('div');\n    titletext.classList = 'ui-dialog-title';\n    titletext.setAttribute(\n        'style',\n        'width: 100%; text-align: center; padding: 3px;'\n    );\n    titlebar.appendChild(titletext);\n    this.root.appendChild(titlebar);\n    this.header = titletext;\n};\n\nmpl.figure.prototype._canvas_extra_style = function (_canvas_div) {};\n\nmpl.figure.prototype._root_extra_style = function (_canvas_div) {};\n\nmpl.figure.prototype._init_canvas = function () {\n    var fig = this;\n\n    var canvas_div = (this.canvas_div = document.createElement('div'));\n    canvas_div.setAttribute('tabindex', '0');\n    canvas_div.setAttribute(\n        'style',\n        'border: 1px solid #ddd;' +\n            'box-sizing: content-box;' +\n            'clear: both;' +\n            'min-height: 1px;' +\n            'min-width: 1px;' +\n            'outline: 0;' +\n            'overflow: hidden;' +\n            'position: relative;' +\n            'resize: both;' +\n            'z-index: 2;'\n    );\n\n    function on_keyboard_event_closure(name) {\n        return function (event) {\n            return fig.key_event(event, name);\n        };\n    }\n\n    canvas_div.addEventListener(\n        'keydown',\n        on_keyboard_event_closure('key_press')\n    );\n    canvas_div.addEventListener(\n        'keyup',\n        on_keyboard_event_closure('key_release')\n    );\n\n    this._canvas_extra_style(canvas_div);\n    this.root.appendChild(canvas_div);\n\n    var canvas = (this.canvas = document.createElement('canvas'));\n    canvas.classList.add('mpl-canvas');\n    canvas.setAttribute(\n        'style',\n        'box-sizing: content-box;' +\n            'pointer-events: none;' +\n            'position: relative;' +\n            'z-index: 0;'\n    );\n\n    this.context = canvas.getContext('2d');\n\n    var backingStore =\n        this.context.backingStorePixelRatio ||\n        this.context.webkitBackingStorePixelRatio ||\n        this.context.mozBackingStorePixelRatio ||\n        this.context.msBackingStorePixelRatio ||\n        this.context.oBackingStorePixelRatio ||\n        this.context.backingStorePixelRatio ||\n        1;\n\n    this.ratio = (window.devicePixelRatio || 1) / backingStore;\n\n    var rubberband_canvas = (this.rubberband_canvas = document.createElement(\n        'canvas'\n    ));\n    rubberband_canvas.setAttribute(\n        'style',\n        'box-sizing: content-box;' +\n            'left: 0;' +\n            'pointer-events: none;' +\n            'position: absolute;' +\n            'top: 0;' +\n            'z-index: 1;'\n    );\n\n    // Apply a ponyfill if ResizeObserver is not implemented by browser.\n    if (this.ResizeObserver === undefined) {\n        if (window.ResizeObserver !== undefined) {\n            this.ResizeObserver = window.ResizeObserver;\n        } else {\n            var obs = _JSXTOOLS_RESIZE_OBSERVER({});\n            this.ResizeObserver = obs.ResizeObserver;\n        }\n    }\n\n    this.resizeObserverInstance = new this.ResizeObserver(function (entries) {\n        var nentries = entries.length;\n        for (var i = 0; i < nentries; i++) {\n            var entry = entries[i];\n            var width, height;\n            if (entry.contentBoxSize) {\n                if (entry.contentBoxSize instanceof Array) {\n                    // Chrome 84 implements new version of spec.\n                    width = entry.contentBoxSize[0].inlineSize;\n                    height = entry.contentBoxSize[0].blockSize;\n                } else {\n                    // Firefox implements old version of spec.\n                    width = entry.contentBoxSize.inlineSize;\n                    height = entry.contentBoxSize.blockSize;\n                }\n            } else {\n                // Chrome <84 implements even older version of spec.\n                width = entry.contentRect.width;\n                height = entry.contentRect.height;\n            }\n\n            // Keep the size of the canvas and rubber band canvas in sync with\n            // the canvas container.\n            if (entry.devicePixelContentBoxSize) {\n                // Chrome 84 implements new version of spec.\n                canvas.setAttribute(\n                    'width',\n                    entry.devicePixelContentBoxSize[0].inlineSize\n                );\n                canvas.setAttribute(\n                    'height',\n                    entry.devicePixelContentBoxSize[0].blockSize\n                );\n            } else {\n                canvas.setAttribute('width', width * fig.ratio);\n                canvas.setAttribute('height', height * fig.ratio);\n            }\n            /* This rescales the canvas back to display pixels, so that it\n             * appears correct on HiDPI screens. */\n            canvas.style.width = width + 'px';\n            canvas.style.height = height + 'px';\n\n            rubberband_canvas.setAttribute('width', width);\n            rubberband_canvas.setAttribute('height', height);\n\n            // And update the size in Python. We ignore the initial 0/0 size\n            // that occurs as the element is placed into the DOM, which should\n            // otherwise not happen due to the minimum size styling.\n            if (fig.ws.readyState == 1 && width != 0 && height != 0) {\n                fig.request_resize(width, height);\n            }\n        }\n    });\n    this.resizeObserverInstance.observe(canvas_div);\n\n    function on_mouse_event_closure(name) {\n        /* User Agent sniffing is bad, but WebKit is busted:\n         * https://bugs.webkit.org/show_bug.cgi?id=144526\n         * https://bugs.webkit.org/show_bug.cgi?id=181818\n         * The worst that happens here is that they get an extra browser\n         * selection when dragging, if this check fails to catch them.\n         */\n        var UA = navigator.userAgent;\n        var isWebKit = /AppleWebKit/.test(UA) && !/Chrome/.test(UA);\n        if(isWebKit) {\n            return function (event) {\n                /* This prevents the web browser from automatically changing to\n                 * the text insertion cursor when the button is pressed. We\n                 * want to control all of the cursor setting manually through\n                 * the 'cursor' event from matplotlib */\n                event.preventDefault()\n                return fig.mouse_event(event, name);\n            };\n        } else {\n            return function (event) {\n                return fig.mouse_event(event, name);\n            };\n        }\n    }\n\n    canvas_div.addEventListener(\n        'mousedown',\n        on_mouse_event_closure('button_press')\n    );\n    canvas_div.addEventListener(\n        'mouseup',\n        on_mouse_event_closure('button_release')\n    );\n    canvas_div.addEventListener(\n        'dblclick',\n        on_mouse_event_closure('dblclick')\n    );\n    // Throttle sequential mouse events to 1 every 20ms.\n    canvas_div.addEventListener(\n        'mousemove',\n        on_mouse_event_closure('motion_notify')\n    );\n\n    canvas_div.addEventListener(\n        'mouseenter',\n        on_mouse_event_closure('figure_enter')\n    );\n    canvas_div.addEventListener(\n        'mouseleave',\n        on_mouse_event_closure('figure_leave')\n    );\n\n    canvas_div.addEventListener('wheel', function (event) {\n        if (event.deltaY < 0) {\n            event.step = 1;\n        } else {\n            event.step = -1;\n        }\n        on_mouse_event_closure('scroll')(event);\n    });\n\n    canvas_div.appendChild(canvas);\n    canvas_div.appendChild(rubberband_canvas);\n\n    this.rubberband_context = rubberband_canvas.getContext('2d');\n    this.rubberband_context.strokeStyle = '#000000';\n\n    this._resize_canvas = function (width, height, forward) {\n        if (forward) {\n            canvas_div.style.width = width + 'px';\n            canvas_div.style.height = height + 'px';\n        }\n    };\n\n    // Disable right mouse context menu.\n    canvas_div.addEventListener('contextmenu', function (_e) {\n        event.preventDefault();\n        return false;\n    });\n\n    function set_focus() {\n        canvas.focus();\n        canvas_div.focus();\n    }\n\n    window.setTimeout(set_focus, 100);\n};\n\nmpl.figure.prototype._init_toolbar = function () {\n    var fig = this;\n\n    var toolbar = document.createElement('div');\n    toolbar.classList = 'mpl-toolbar';\n    this.root.appendChild(toolbar);\n\n    function on_click_closure(name) {\n        return function (_event) {\n            return fig.toolbar_button_onclick(name);\n        };\n    }\n\n    function on_mouseover_closure(tooltip) {\n        return function (event) {\n            if (!event.currentTarget.disabled) {\n                return fig.toolbar_button_onmouseover(tooltip);\n            }\n        };\n    }\n\n    fig.buttons = {};\n    var buttonGroup = document.createElement('div');\n    buttonGroup.classList = 'mpl-button-group';\n    for (var toolbar_ind in mpl.toolbar_items) {\n        var name = mpl.toolbar_items[toolbar_ind][0];\n        var tooltip = mpl.toolbar_items[toolbar_ind][1];\n        var image = mpl.toolbar_items[toolbar_ind][2];\n        var method_name = mpl.toolbar_items[toolbar_ind][3];\n\n        if (!name) {\n            /* Instead of a spacer, we start a new button group. */\n            if (buttonGroup.hasChildNodes()) {\n                toolbar.appendChild(buttonGroup);\n            }\n            buttonGroup = document.createElement('div');\n            buttonGroup.classList = 'mpl-button-group';\n            continue;\n        }\n\n        var button = (fig.buttons[name] = document.createElement('button'));\n        button.classList = 'mpl-widget';\n        button.setAttribute('role', 'button');\n        button.setAttribute('aria-disabled', 'false');\n        button.addEventListener('click', on_click_closure(method_name));\n        button.addEventListener('mouseover', on_mouseover_closure(tooltip));\n\n        var icon_img = document.createElement('img');\n        icon_img.src = '_images/' + image + '.png';\n        icon_img.srcset = '_images/' + image + '_large.png 2x';\n        icon_img.alt = tooltip;\n        button.appendChild(icon_img);\n\n        buttonGroup.appendChild(button);\n    }\n\n    if (buttonGroup.hasChildNodes()) {\n        toolbar.appendChild(buttonGroup);\n    }\n\n    var fmt_picker = document.createElement('select');\n    fmt_picker.classList = 'mpl-widget';\n    toolbar.appendChild(fmt_picker);\n    this.format_dropdown = fmt_picker;\n\n    for (var ind in mpl.extensions) {\n        var fmt = mpl.extensions[ind];\n        var option = document.createElement('option');\n        option.selected = fmt === mpl.default_extension;\n        option.innerHTML = fmt;\n        fmt_picker.appendChild(option);\n    }\n\n    var status_bar = document.createElement('span');\n    status_bar.classList = 'mpl-message';\n    toolbar.appendChild(status_bar);\n    this.message = status_bar;\n};\n\nmpl.figure.prototype.request_resize = function (x_pixels, y_pixels) {\n    // Request matplotlib to resize the figure. Matplotlib will then trigger a resize in the client,\n    // which will in turn request a refresh of the image.\n    this.send_message('resize', { width: x_pixels, height: y_pixels });\n};\n\nmpl.figure.prototype.send_message = function (type, properties) {\n    properties['type'] = type;\n    properties['figure_id'] = this.id;\n    this.ws.send(JSON.stringify(properties));\n};\n\nmpl.figure.prototype.send_draw_message = function () {\n    if (!this.waiting) {\n        this.waiting = true;\n        this.ws.send(JSON.stringify({ type: 'draw', figure_id: this.id }));\n    }\n};\n\nmpl.figure.prototype.handle_save = function (fig, _msg) {\n    var format_dropdown = fig.format_dropdown;\n    var format = format_dropdown.options[format_dropdown.selectedIndex].value;\n    fig.ondownload(fig, format);\n};\n\nmpl.figure.prototype.handle_resize = function (fig, msg) {\n    var size = msg['size'];\n    if (size[0] !== fig.canvas.width || size[1] !== fig.canvas.height) {\n        fig._resize_canvas(size[0], size[1], msg['forward']);\n        fig.send_message('refresh', {});\n    }\n};\n\nmpl.figure.prototype.handle_rubberband = function (fig, msg) {\n    var x0 = msg['x0'] / fig.ratio;\n    var y0 = (fig.canvas.height - msg['y0']) / fig.ratio;\n    var x1 = msg['x1'] / fig.ratio;\n    var y1 = (fig.canvas.height - msg['y1']) / fig.ratio;\n    x0 = Math.floor(x0) + 0.5;\n    y0 = Math.floor(y0) + 0.5;\n    x1 = Math.floor(x1) + 0.5;\n    y1 = Math.floor(y1) + 0.5;\n    var min_x = Math.min(x0, x1);\n    var min_y = Math.min(y0, y1);\n    var width = Math.abs(x1 - x0);\n    var height = Math.abs(y1 - y0);\n\n    fig.rubberband_context.clearRect(\n        0,\n        0,\n        fig.canvas.width / fig.ratio,\n        fig.canvas.height / fig.ratio\n    );\n\n    fig.rubberband_context.strokeRect(min_x, min_y, width, height);\n};\n\nmpl.figure.prototype.handle_figure_label = function (fig, msg) {\n    // Updates the figure title.\n    fig.header.textContent = msg['label'];\n};\n\nmpl.figure.prototype.handle_cursor = function (fig, msg) {\n    fig.canvas_div.style.cursor = msg['cursor'];\n};\n\nmpl.figure.prototype.handle_message = function (fig, msg) {\n    fig.message.textContent = msg['message'];\n};\n\nmpl.figure.prototype.handle_draw = function (fig, _msg) {\n    // Request the server to send over a new figure.\n    fig.send_draw_message();\n};\n\nmpl.figure.prototype.handle_image_mode = function (fig, msg) {\n    fig.image_mode = msg['mode'];\n};\n\nmpl.figure.prototype.handle_history_buttons = function (fig, msg) {\n    for (var key in msg) {\n        if (!(key in fig.buttons)) {\n            continue;\n        }\n        fig.buttons[key].disabled = !msg[key];\n        fig.buttons[key].setAttribute('aria-disabled', !msg[key]);\n    }\n};\n\nmpl.figure.prototype.handle_navigate_mode = function (fig, msg) {\n    if (msg['mode'] === 'PAN') {\n        fig.buttons['Pan'].classList.add('active');\n        fig.buttons['Zoom'].classList.remove('active');\n    } else if (msg['mode'] === 'ZOOM') {\n        fig.buttons['Pan'].classList.remove('active');\n        fig.buttons['Zoom'].classList.add('active');\n    } else {\n        fig.buttons['Pan'].classList.remove('active');\n        fig.buttons['Zoom'].classList.remove('active');\n    }\n};\n\nmpl.figure.prototype.updated_canvas_event = function () {\n    // Called whenever the canvas gets updated.\n    this.send_message('ack', {});\n};\n\n// A function to construct a web socket function for onmessage handling.\n// Called in the figure constructor.\nmpl.figure.prototype._make_on_message_function = function (fig) {\n    return function socket_on_message(evt) {\n        if (evt.data instanceof Blob) {\n            var img = evt.data;\n            if (img.type !== 'image/png') {\n                /* FIXME: We get \"Resource interpreted as Image but\n                 * transferred with MIME type text/plain:\" errors on\n                 * Chrome.  But how to set the MIME type?  It doesn't seem\n                 * to be part of the websocket stream */\n                img.type = 'image/png';\n            }\n\n            /* Free the memory for the previous frames */\n            if (fig.imageObj.src) {\n                (window.URL || window.webkitURL).revokeObjectURL(\n                    fig.imageObj.src\n                );\n            }\n\n            fig.imageObj.src = (window.URL || window.webkitURL).createObjectURL(\n                img\n            );\n            fig.updated_canvas_event();\n            fig.waiting = false;\n            return;\n        } else if (\n            typeof evt.data === 'string' &&\n            evt.data.slice(0, 21) === 'data:image/png;base64'\n        ) {\n            fig.imageObj.src = evt.data;\n            fig.updated_canvas_event();\n            fig.waiting = false;\n            return;\n        }\n\n        var msg = JSON.parse(evt.data);\n        var msg_type = msg['type'];\n\n        // Call the  \"handle_{type}\" callback, which takes\n        // the figure and JSON message as its only arguments.\n        try {\n            var callback = fig['handle_' + msg_type];\n        } catch (e) {\n            console.log(\n                \"No handler for the '\" + msg_type + \"' message type: \",\n                msg\n            );\n            return;\n        }\n\n        if (callback) {\n            try {\n                // console.log(\"Handling '\" + msg_type + \"' message: \", msg);\n                callback(fig, msg);\n            } catch (e) {\n                console.log(\n                    \"Exception inside the 'handler_\" + msg_type + \"' callback:\",\n                    e,\n                    e.stack,\n                    msg\n                );\n            }\n        }\n    };\n};\n\nfunction getModifiers(event) {\n    var mods = [];\n    if (event.ctrlKey) {\n        mods.push('ctrl');\n    }\n    if (event.altKey) {\n        mods.push('alt');\n    }\n    if (event.shiftKey) {\n        mods.push('shift');\n    }\n    if (event.metaKey) {\n        mods.push('meta');\n    }\n    return mods;\n}\n\n/*\n * return a copy of an object with only non-object keys\n * we need this to avoid circular references\n * https://stackoverflow.com/a/24161582/3208463\n */\nfunction simpleKeys(original) {\n    return Object.keys(original).reduce(function (obj, key) {\n        if (typeof original[key] !== 'object') {\n            obj[key] = original[key];\n        }\n        return obj;\n    }, {});\n}\n\nmpl.figure.prototype.mouse_event = function (event, name) {\n    if (name === 'button_press') {\n        this.canvas.focus();\n        this.canvas_div.focus();\n    }\n\n    // from https://stackoverflow.com/q/1114465\n    var boundingRect = this.canvas.getBoundingClientRect();\n    var x = (event.clientX - boundingRect.left) * this.ratio;\n    var y = (event.clientY - boundingRect.top) * this.ratio;\n\n    this.send_message(name, {\n        x: x,\n        y: y,\n        button: event.button,\n        step: event.step,\n        modifiers: getModifiers(event),\n        guiEvent: simpleKeys(event),\n    });\n\n    return false;\n};\n\nmpl.figure.prototype._key_event_extra = function (_event, _name) {\n    // Handle any extra behaviour associated with a key event\n};\n\nmpl.figure.prototype.key_event = function (event, name) {\n    // Prevent repeat events\n    if (name === 'key_press') {\n        if (event.key === this._key) {\n            return;\n        } else {\n            this._key = event.key;\n        }\n    }\n    if (name === 'key_release') {\n        this._key = null;\n    }\n\n    var value = '';\n    if (event.ctrlKey && event.key !== 'Control') {\n        value += 'ctrl+';\n    }\n    else if (event.altKey && event.key !== 'Alt') {\n        value += 'alt+';\n    }\n    else if (event.shiftKey && event.key !== 'Shift') {\n        value += 'shift+';\n    }\n\n    value += 'k' + event.key;\n\n    this._key_event_extra(event, name);\n\n    this.send_message(name, { key: value, guiEvent: simpleKeys(event) });\n    return false;\n};\n\nmpl.figure.prototype.toolbar_button_onclick = function (name) {\n    if (name === 'download') {\n        this.handle_save(this, null);\n    } else {\n        this.send_message('toolbar_button', { name: name });\n    }\n};\n\nmpl.figure.prototype.toolbar_button_onmouseover = function (tooltip) {\n    this.message.textContent = tooltip;\n};\n\n///////////////// REMAINING CONTENT GENERATED BY embed_js.py /////////////////\n// prettier-ignore\nvar _JSXTOOLS_RESIZE_OBSERVER=function(A){var t,i=new WeakMap,n=new WeakMap,a=new WeakMap,r=new WeakMap,o=new Set;function s(e){if(!(this instanceof s))throw new TypeError(\"Constructor requires 'new' operator\");i.set(this,e)}function h(){throw new TypeError(\"Function is not a constructor\")}function c(e,t,i,n){e=0 in arguments?Number(arguments[0]):0,t=1 in arguments?Number(arguments[1]):0,i=2 in arguments?Number(arguments[2]):0,n=3 in arguments?Number(arguments[3]):0,this.right=(this.x=this.left=e)+(this.width=i),this.bottom=(this.y=this.top=t)+(this.height=n),Object.freeze(this)}function d(){t=requestAnimationFrame(d);var s=new WeakMap,p=new Set;o.forEach((function(t){r.get(t).forEach((function(i){var r=t instanceof window.SVGElement,o=a.get(t),d=r?0:parseFloat(o.paddingTop),f=r?0:parseFloat(o.paddingRight),l=r?0:parseFloat(o.paddingBottom),u=r?0:parseFloat(o.paddingLeft),g=r?0:parseFloat(o.borderTopWidth),m=r?0:parseFloat(o.borderRightWidth),w=r?0:parseFloat(o.borderBottomWidth),b=u+f,F=d+l,v=(r?0:parseFloat(o.borderLeftWidth))+m,W=g+w,y=r?0:t.offsetHeight-W-t.clientHeight,E=r?0:t.offsetWidth-v-t.clientWidth,R=b+v,z=F+W,M=r?t.width:parseFloat(o.width)-R-E,O=r?t.height:parseFloat(o.height)-z-y;if(n.has(t)){var k=n.get(t);if(k[0]===M&&k[1]===O)return}n.set(t,[M,O]);var S=Object.create(h.prototype);S.target=t,S.contentRect=new c(u,d,M,O),s.has(i)||(s.set(i,[]),p.add(i)),s.get(i).push(S)}))})),p.forEach((function(e){i.get(e).call(e,s.get(e),e)}))}return s.prototype.observe=function(i){if(i instanceof window.Element){r.has(i)||(r.set(i,new Set),o.add(i),a.set(i,window.getComputedStyle(i)));var n=r.get(i);n.has(this)||n.add(this),cancelAnimationFrame(t),t=requestAnimationFrame(d)}},s.prototype.unobserve=function(i){if(i instanceof window.Element&&r.has(i)){var n=r.get(i);n.has(this)&&(n.delete(this),n.size||(r.delete(i),o.delete(i))),n.size||r.delete(i),o.size||cancelAnimationFrame(t)}},A.DOMRectReadOnly=c,A.ResizeObserver=s,A.ResizeObserverEntry=h,A}; // eslint-disable-line\nmpl.toolbar_items = [[\"Home\", \"Reset original view\", \"fa fa-home\", \"home\"], [\"Back\", \"Back to previous view\", \"fa fa-arrow-left\", \"back\"], [\"Forward\", \"Forward to next view\", \"fa fa-arrow-right\", \"forward\"], [\"\", \"\", \"\", \"\"], [\"Pan\", \"Left button pans, Right button zooms\\nx/y fixes axis, CTRL fixes aspect\", \"fa fa-arrows\", \"pan\"], [\"Zoom\", \"Zoom to rectangle\\nx/y fixes axis\", \"fa fa-square-o\", \"zoom\"], [\"\", \"\", \"\", \"\"], [\"Download\", \"Download plot\", \"fa fa-floppy-o\", \"download\"]];\n\nmpl.extensions = [\"eps\", \"jpeg\", \"pgf\", \"pdf\", \"png\", \"ps\", \"raw\", \"svg\", \"tif\", \"webp\"];\n\nmpl.default_extension = \"png\";/* global mpl */\n\nvar comm_websocket_adapter = function (comm) {\n    // Create a \"websocket\"-like object which calls the given IPython comm\n    // object with the appropriate methods. Currently this is a non binary\n    // socket, so there is still some room for performance tuning.\n    var ws = {};\n\n    ws.binaryType = comm.kernel.ws.binaryType;\n    ws.readyState = comm.kernel.ws.readyState;\n    function updateReadyState(_event) {\n        if (comm.kernel.ws) {\n            ws.readyState = comm.kernel.ws.readyState;\n        } else {\n            ws.readyState = 3; // Closed state.\n        }\n    }\n    comm.kernel.ws.addEventListener('open', updateReadyState);\n    comm.kernel.ws.addEventListener('close', updateReadyState);\n    comm.kernel.ws.addEventListener('error', updateReadyState);\n\n    ws.close = function () {\n        comm.close();\n    };\n    ws.send = function (m) {\n        //console.log('sending', m);\n        comm.send(m);\n    };\n    // Register the callback with on_msg.\n    comm.on_msg(function (msg) {\n        //console.log('receiving', msg['content']['data'], msg);\n        var data = msg['content']['data'];\n        if (data['blob'] !== undefined) {\n            data = {\n                data: new Blob(msg['buffers'], { type: data['blob'] }),\n            };\n        }\n        // Pass the mpl event to the overridden (by mpl) onmessage function.\n        ws.onmessage(data);\n    });\n    return ws;\n};\n\nmpl.mpl_figure_comm = function (comm, msg) {\n    // This is the function which gets called when the mpl process\n    // starts-up an IPython Comm through the \"matplotlib\" channel.\n\n    var id = msg.content.data.id;\n    // Get hold of the div created by the display call when the Comm\n    // socket was opened in Python.\n    var element = document.getElementById(id);\n    var ws_proxy = comm_websocket_adapter(comm);\n\n    function ondownload(figure, _format) {\n        window.open(figure.canvas.toDataURL());\n    }\n\n    var fig = new mpl.figure(id, ws_proxy, ondownload, element);\n\n    // Call onopen now - mpl needs it, as it is assuming we've passed it a real\n    // web socket which is closed, not our websocket->open comm proxy.\n    ws_proxy.onopen();\n\n    fig.parent_element = element;\n    fig.cell_info = mpl.find_output_cell(\"<div id='\" + id + \"'></div>\");\n    if (!fig.cell_info) {\n        console.error('Failed to find cell for figure', id, fig);\n        return;\n    }\n    fig.cell_info[0].output_area.element.on(\n        'cleared',\n        { fig: fig },\n        fig._remove_fig_handler\n    );\n};\n\nmpl.figure.prototype.handle_close = function (fig, msg) {\n    var width = fig.canvas.width / fig.ratio;\n    fig.cell_info[0].output_area.element.off(\n        'cleared',\n        fig._remove_fig_handler\n    );\n    fig.resizeObserverInstance.unobserve(fig.canvas_div);\n\n    // Update the output cell to use the data from the current canvas.\n    fig.push_to_output();\n    var dataURL = fig.canvas.toDataURL();\n    // Re-enable the keyboard manager in IPython - without this line, in FF,\n    // the notebook keyboard shortcuts fail.\n    IPython.keyboard_manager.enable();\n    fig.parent_element.innerHTML =\n        '<img src=\"' + dataURL + '\" width=\"' + width + '\">';\n    fig.close_ws(fig, msg);\n};\n\nmpl.figure.prototype.close_ws = function (fig, msg) {\n    fig.send_message('closing', msg);\n    // fig.ws.close()\n};\n\nmpl.figure.prototype.push_to_output = function (_remove_interactive) {\n    // Turn the data on the canvas into data in the output cell.\n    var width = this.canvas.width / this.ratio;\n    var dataURL = this.canvas.toDataURL();\n    this.cell_info[1]['text/html'] =\n        '<img src=\"' + dataURL + '\" width=\"' + width + '\">';\n};\n\nmpl.figure.prototype.updated_canvas_event = function () {\n    // Tell IPython that the notebook contents must change.\n    IPython.notebook.set_dirty(true);\n    this.send_message('ack', {});\n    var fig = this;\n    // Wait a second, then push the new image to the DOM so\n    // that it is saved nicely (might be nice to debounce this).\n    setTimeout(function () {\n        fig.push_to_output();\n    }, 1000);\n};\n\nmpl.figure.prototype._init_toolbar = function () {\n    var fig = this;\n\n    var toolbar = document.createElement('div');\n    toolbar.classList = 'btn-toolbar';\n    this.root.appendChild(toolbar);\n\n    function on_click_closure(name) {\n        return function (_event) {\n            return fig.toolbar_button_onclick(name);\n        };\n    }\n\n    function on_mouseover_closure(tooltip) {\n        return function (event) {\n            if (!event.currentTarget.disabled) {\n                return fig.toolbar_button_onmouseover(tooltip);\n            }\n        };\n    }\n\n    fig.buttons = {};\n    var buttonGroup = document.createElement('div');\n    buttonGroup.classList = 'btn-group';\n    var button;\n    for (var toolbar_ind in mpl.toolbar_items) {\n        var name = mpl.toolbar_items[toolbar_ind][0];\n        var tooltip = mpl.toolbar_items[toolbar_ind][1];\n        var image = mpl.toolbar_items[toolbar_ind][2];\n        var method_name = mpl.toolbar_items[toolbar_ind][3];\n\n        if (!name) {\n            /* Instead of a spacer, we start a new button group. */\n            if (buttonGroup.hasChildNodes()) {\n                toolbar.appendChild(buttonGroup);\n            }\n            buttonGroup = document.createElement('div');\n            buttonGroup.classList = 'btn-group';\n            continue;\n        }\n\n        button = fig.buttons[name] = document.createElement('button');\n        button.classList = 'btn btn-default';\n        button.href = '#';\n        button.title = name;\n        button.innerHTML = '<i class=\"fa ' + image + ' fa-lg\"></i>';\n        button.addEventListener('click', on_click_closure(method_name));\n        button.addEventListener('mouseover', on_mouseover_closure(tooltip));\n        buttonGroup.appendChild(button);\n    }\n\n    if (buttonGroup.hasChildNodes()) {\n        toolbar.appendChild(buttonGroup);\n    }\n\n    // Add the status bar.\n    var status_bar = document.createElement('span');\n    status_bar.classList = 'mpl-message pull-right';\n    toolbar.appendChild(status_bar);\n    this.message = status_bar;\n\n    // Add the close button to the window.\n    var buttongrp = document.createElement('div');\n    buttongrp.classList = 'btn-group inline pull-right';\n    button = document.createElement('button');\n    button.classList = 'btn btn-mini btn-primary';\n    button.href = '#';\n    button.title = 'Stop Interaction';\n    button.innerHTML = '<i class=\"fa fa-power-off icon-remove icon-large\"></i>';\n    button.addEventListener('click', function (_evt) {\n        fig.handle_close(fig, {});\n    });\n    button.addEventListener(\n        'mouseover',\n        on_mouseover_closure('Stop Interaction')\n    );\n    buttongrp.appendChild(button);\n    var titlebar = this.root.querySelector('.ui-dialog-titlebar');\n    titlebar.insertBefore(buttongrp, titlebar.firstChild);\n};\n\nmpl.figure.prototype._remove_fig_handler = function (event) {\n    var fig = event.data.fig;\n    if (event.target !== this) {\n        // Ignore bubbled events from children.\n        return;\n    }\n    fig.close_ws(fig, {});\n};\n\nmpl.figure.prototype._root_extra_style = function (el) {\n    el.style.boxSizing = 'content-box'; // override notebook setting of border-box.\n};\n\nmpl.figure.prototype._canvas_extra_style = function (el) {\n    // this is important to make the div 'focusable\n    el.setAttribute('tabindex', 0);\n    // reach out to IPython and tell the keyboard manager to turn it's self\n    // off when our div gets focus\n\n    // location in version 3\n    if (IPython.notebook.keyboard_manager) {\n        IPython.notebook.keyboard_manager.register_events(el);\n    } else {\n        // location in version 2\n        IPython.keyboard_manager.register_events(el);\n    }\n};\n\nmpl.figure.prototype._key_event_extra = function (event, _name) {\n    // Check for shift+enter\n    if (event.shiftKey && event.which === 13) {\n        this.canvas_div.blur();\n        // select the cell after this one\n        var index = IPython.notebook.find_cell_index(this.cell_info[0]);\n        IPython.notebook.select(index + 1);\n    }\n};\n\nmpl.figure.prototype.handle_save = function (fig, _msg) {\n    fig.ondownload(fig, null);\n};\n\nmpl.find_output_cell = function (html_output) {\n    // Return the cell and output element which can be found *uniquely* in the notebook.\n    // Note - this is a bit hacky, but it is done because the \"notebook_saving.Notebook\"\n    // IPython event is triggered only after the cells have been serialised, which for\n    // our purposes (turning an active figure into a static one), is too late.\n    var cells = IPython.notebook.get_cells();\n    var ncells = cells.length;\n    for (var i = 0; i < ncells; i++) {\n        var cell = cells[i];\n        if (cell.cell_type === 'code') {\n            for (var j = 0; j < cell.output_area.outputs.length; j++) {\n                var data = cell.output_area.outputs[j];\n                if (data.data) {\n                    // IPython >= 3 moved mimebundle to data attribute of output\n                    data = data.data;\n                }\n                if (data['text/html'] === html_output) {\n                    return [cell, data, j];\n                }\n            }\n        }\n    }\n};\n\n// Register the function which deals with the matplotlib target/channel.\n// The kernel may be null if the page has been refreshed.\nif (IPython.notebook.kernel !== null) {\n    IPython.notebook.kernel.comm_manager.register_target(\n        'matplotlib',\n        mpl.mpl_figure_comm\n    );\n}\n",
      "text/plain": [
       "<IPython.core.display.Javascript object>"
      ]
     },
     "metadata": {},
     "output_type": "display_data"
    },
    {
     "data": {
      "text/html": [
       "<img src=\"data:image/png;base64,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\" width=\"1000\">"
      ],
      "text/plain": [
       "<IPython.core.display.HTML object>"
      ]
     },
     "metadata": {},
     "output_type": "display_data"
    },
    {
     "data": {
      "text/plain": [
       "[<matplotlib.lines.Line2D at 0x29df1c10950>]"
      ]
     },
     "execution_count": 84,
     "metadata": {},
     "output_type": "execute_result"
    }
   ],
   "source": [
    "import matplotlib.pyplot as plt\n",
    "\n",
    "plt.figure(figsize=(10,5))\n",
    "plt.plot(a[0], a[1], 'o', label='training data', markersize=10)\n"
   ]
  },
  {
   "cell_type": "markdown",
   "metadata": {
    "deletable": false,
    "editable": false,
    "nbgrader": {
     "cell_type": "markdown",
     "checksum": "f6ac0808fe91645d2f5a9b37bdce3dda",
     "grade": false,
     "grade_id": "cell-40596e2acf966014",
     "locked": true,
     "schema_version": 3,
     "solution": false,
     "task": false
    }
   },
   "source": [
    "### Question 7\n",
    "\n",
    "Based on the scores from question 6, what gamma value corresponds to a model that is underfitting? What gamma value corresponds to a model that is overfitting? What choice of gamma would provide a model with good generalization performance on this dataset? \n",
    "\n",
    "(Hint: Try plotting the scores from question 6 to visualize the relationship)\n",
    "\n",
    "*This function should return a tuple with the degree values in this order: `(Underfitting, Overfitting, Good_Generalization)`*"
   ]
  },
  {
   "cell_type": "code",
   "execution_count": 73,
   "metadata": {
    "deletable": false,
    "nbgrader": {
     "cell_type": "code",
     "checksum": "ac5a576f40d02669a67b9a16cac123a2",
     "grade": false,
     "grade_id": "cell-f159223bb2d29699",
     "locked": false,
     "schema_version": 3,
     "solution": true,
     "task": false
    }
   },
   "outputs": [
    {
     "data": {
      "text/plain": [
       "(10.0, 10.0, 0.1)"
      ]
     },
     "execution_count": 73,
     "metadata": {},
     "output_type": "execute_result"
    }
   ],
   "source": [
    "def answer_seven():\n",
    "    \n",
    "    u = 1\n",
    "    o = 0\n",
    "    g = 0.5\n",
    "    cu = 0\n",
    "    co = 0\n",
    "    cg = 0\n",
    "    m_train = a[0]\n",
    "    m_test = a[1]\n",
    "    for i, gamma in enumerate(np.logspace(-4,1,6)):\n",
    "        if (m_train[i] + m_test[i])/2 < u:\n",
    "            u = (m_train[i] + m_test[i])/2\n",
    "            cu = gamma\n",
    "        if (m_train[i] + m_test[i])/2 > g:\n",
    "            g = (m_train[i] + m_test[i])/2\n",
    "            cg = gamma\n",
    "        if m_train[i] - m_test[i] > o:\n",
    "            o = m_train[i] - m_test[i]\n",
    "            co = gamma\n",
    "    return (cu, co, cg)\n",
    "\n",
    "answer_seven()\n",
    "    # YOUR CODE HERE\n",
    "    #raise NotImplementedError()"
   ]
  },
  {
   "cell_type": "code",
   "execution_count": null,
   "metadata": {
    "deletable": false,
    "editable": false,
    "nbgrader": {
     "cell_type": "code",
     "checksum": "9ece7c13194d0f29a3dd840ff2a87ea4",
     "grade": true,
     "grade_id": "cell-6372c6701a14c068",
     "locked": true,
     "points": 1,
     "schema_version": 3,
     "solution": false,
     "task": false
    }
   },
   "outputs": [],
   "source": []
  },
  {
   "cell_type": "code",
   "execution_count": null,
   "metadata": {},
   "outputs": [],
   "source": []
  }
 ],
 "metadata": {
  "kernelspec": {
   "display_name": "mydsenv",
   "language": "python",
   "name": "python3"
  },
  "language_info": {
   "codemirror_mode": {
    "name": "ipython",
    "version": 3
   },
   "file_extension": ".py",
   "mimetype": "text/x-python",
   "name": "python",
   "nbconvert_exporter": "python",
   "pygments_lexer": "ipython3",
   "version": "3.11.10"
  }
 },
 "nbformat": 4,
 "nbformat_minor": 4
}
